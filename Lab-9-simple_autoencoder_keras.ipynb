{
  "nbformat": 4,
  "nbformat_minor": 0,
  "metadata": {
    "colab": {
      "name": "simple_autoencoder_keras(1).ipynb",
      "provenance": [],
      "collapsed_sections": []
    },
    "kernelspec": {
      "name": "python3",
      "display_name": "Python 3"
    }
  },
  "cells": [
    {
      "cell_type": "code",
      "metadata": {
        "id": "Iv3uC4Wj5ydm",
        "colab_type": "code",
        "outputId": "6f4941d9-f078-40ff-abb6-daacfe61762b",
        "colab": {
          "base_uri": "https://localhost:8080/",
          "height": 100
        }
      },
      "source": [
        "from keras.datasets import mnist\n",
        "from keras.layers import Input, Dense\n",
        "from keras.models import Model"
      ],
      "execution_count": 1,
      "outputs": [
        {
          "output_type": "stream",
          "text": [
            "Using TensorFlow backend.\n"
          ],
          "name": "stderr"
        },
        {
          "output_type": "display_data",
          "data": {
            "text/html": [
              "<p style=\"color: red;\">\n",
              "The default version of TensorFlow in Colab will soon switch to TensorFlow 2.x.<br>\n",
              "We recommend you <a href=\"https://www.tensorflow.org/guide/migrate\" target=\"_blank\">upgrade</a> now \n",
              "or ensure your notebook will continue to use TensorFlow 1.x via the <code>%tensorflow_version 1.x</code> magic:\n",
              "<a href=\"https://colab.research.google.com/notebooks/tensorflow_version.ipynb\" target=\"_blank\">more info</a>.</p>\n"
            ],
            "text/plain": [
              "<IPython.core.display.HTML object>"
            ]
          },
          "metadata": {
            "tags": []
          }
        }
      ]
    },
    {
      "cell_type": "code",
      "metadata": {
        "id": "f57nvz2052YZ",
        "colab_type": "code",
        "colab": {}
      },
      "source": [
        "import numpy as np\n",
        "import pandas as pd\n",
        "import matplotlib.pyplot as plt\n",
        "\n",
        "%matplotlib inline"
      ],
      "execution_count": 0,
      "outputs": []
    },
    {
      "cell_type": "code",
      "metadata": {
        "id": "94k5pqwm56dg",
        "colab_type": "code",
        "outputId": "fa98cf40-bdff-41b4-cc29-df0131341ff7",
        "colab": {
          "base_uri": "https://localhost:8080/",
          "height": 53
        }
      },
      "source": [
        "(X_train, _), (X_test, _) = mnist.load_data()"
      ],
      "execution_count": 3,
      "outputs": [
        {
          "output_type": "stream",
          "text": [
            "Downloading data from https://s3.amazonaws.com/img-datasets/mnist.npz\n",
            "11493376/11490434 [==============================] - 0s 0us/step\n"
          ],
          "name": "stdout"
        }
      ]
    },
    {
      "cell_type": "code",
      "metadata": {
        "id": "dVSM3vRt58g_",
        "colab_type": "code",
        "outputId": "de75b2e8-6ada-4e36-d345-97a841ceba61",
        "colab": {
          "base_uri": "https://localhost:8080/",
          "height": 53
        }
      },
      "source": [
        "X_train = X_train.astype('float32')/255\n",
        "X_test = X_test.astype('float32')/255\n",
        "\n",
        "X_train = X_train.reshape(len(X_train), np.prod(X_train.shape[1:]))\n",
        "X_test = X_test.reshape(len(X_test), np.prod(X_test.shape[1:]))\n",
        "print(X_train.shape)\n",
        "print(X_test.shape)"
      ],
      "execution_count": 4,
      "outputs": [
        {
          "output_type": "stream",
          "text": [
            "(60000, 784)\n",
            "(10000, 784)\n"
          ],
          "name": "stdout"
        }
      ]
    },
    {
      "cell_type": "code",
      "metadata": {
        "id": "AKkADeKP5-_k",
        "colab_type": "code",
        "colab": {
          "base_uri": "https://localhost:8080/",
          "height": 109
        },
        "outputId": "70081195-32bb-484b-a7f6-d41e517fa72f"
      },
      "source": [
        "#Encoded image will have a compression of 784/32=24.5 %\n",
        "\n",
        "#We need to take the input image of dimension 784 and convert it to keras tensors.\n",
        "input_img= Input(shape=(784,))"
      ],
      "execution_count": 5,
      "outputs": [
        {
          "output_type": "stream",
          "text": [
            "WARNING:tensorflow:From /usr/local/lib/python3.6/dist-packages/keras/backend/tensorflow_backend.py:66: The name tf.get_default_graph is deprecated. Please use tf.compat.v1.get_default_graph instead.\n",
            "\n",
            "WARNING:tensorflow:From /usr/local/lib/python3.6/dist-packages/keras/backend/tensorflow_backend.py:541: The name tf.placeholder is deprecated. Please use tf.compat.v1.placeholder instead.\n",
            "\n"
          ],
          "name": "stdout"
        }
      ]
    },
    {
      "cell_type": "code",
      "metadata": {
        "id": "owBBFq136Bzk",
        "colab_type": "code",
        "colab": {}
      },
      "source": [
        "#Input image will be Encoded to 32 units and the activation will be relu and the input is the tensors of input image\n",
        "encoded = Dense(units=32, activation='relu')(input_img)"
      ],
      "execution_count": 0,
      "outputs": []
    },
    {
      "cell_type": "code",
      "metadata": {
        "id": "gtY_jq8f6EQp",
        "colab_type": "code",
        "colab": {}
      },
      "source": [
        "#Decoder will have 784 units as it needs to reconstruct the input image back to its original dimension.\n",
        "\n",
        "#As decoded is the output layer of the autoencoder we will use sigmoid activation function. encoded image will be the input to the decoder\n",
        "\n",
        "decoded = Dense(units=784, activation='sigmoid')(encoded)"
      ],
      "execution_count": 0,
      "outputs": []
    },
    {
      "cell_type": "code",
      "metadata": {
        "id": "GUUN6mRn6Hyo",
        "colab_type": "code",
        "colab": {}
      },
      "source": [
        "#We now create the autoencoder with input as the input image and output as the decoder\n",
        "autoencoder=Model(input_img, decoded)"
      ],
      "execution_count": 0,
      "outputs": []
    },
    {
      "cell_type": "code",
      "metadata": {
        "id": "bQNqIJDS6KqL",
        "colab_type": "code",
        "outputId": "d9945bd7-a25d-452b-91e4-6131605a53f2",
        "colab": {
          "base_uri": "https://localhost:8080/",
          "height": 269
        }
      },
      "source": [
        "autoencoder.summary()"
      ],
      "execution_count": 15,
      "outputs": [
        {
          "output_type": "stream",
          "text": [
            "Model: \"model_3\"\n",
            "_________________________________________________________________\n",
            "Layer (type)                 Output Shape              Param #   \n",
            "=================================================================\n",
            "input_1 (InputLayer)         (None, 784)               0         \n",
            "_________________________________________________________________\n",
            "dense_3 (Dense)              (None, 32)                25120     \n",
            "_________________________________________________________________\n",
            "dense_4 (Dense)              (None, 784)               25872     \n",
            "=================================================================\n",
            "Total params: 50,992\n",
            "Trainable params: 50,992\n",
            "Non-trainable params: 0\n",
            "_________________________________________________________________\n"
          ],
          "name": "stdout"
        }
      ]
    },
    {
      "cell_type": "code",
      "metadata": {
        "id": "5_mwd5DT6uZV",
        "colab_type": "code",
        "colab": {}
      },
      "source": [
        "# We can also extract the encoder which takes input as input images and the output is the encoded image.\n",
        "encoder = Model(input_img, encoded)"
      ],
      "execution_count": 0,
      "outputs": []
    },
    {
      "cell_type": "code",
      "metadata": {
        "id": "P_Xpk3B_62Gv",
        "colab_type": "code",
        "outputId": "cb6ebab7-048e-40be-9ac3-dd24fb0c2cbb",
        "colab": {
          "base_uri": "https://localhost:8080/",
          "height": 233
        }
      },
      "source": [
        "encoder.summary()"
      ],
      "execution_count": 17,
      "outputs": [
        {
          "output_type": "stream",
          "text": [
            "Model: \"model_4\"\n",
            "_________________________________________________________________\n",
            "Layer (type)                 Output Shape              Param #   \n",
            "=================================================================\n",
            "input_1 (InputLayer)         (None, 784)               0         \n",
            "_________________________________________________________________\n",
            "dense_3 (Dense)              (None, 32)                25120     \n",
            "=================================================================\n",
            "Total params: 25,120\n",
            "Trainable params: 25,120\n",
            "Non-trainable params: 0\n",
            "_________________________________________________________________\n"
          ],
          "name": "stdout"
        }
      ]
    },
    {
      "cell_type": "code",
      "metadata": {
        "id": "213oUSOY67F1",
        "colab_type": "code",
        "colab": {
          "base_uri": "https://localhost:8080/",
          "height": 163
        },
        "outputId": "3439cb19-b58d-41a5-8154-64240f596771"
      },
      "source": [
        "# We now compile the autoencoder model with adadelta optimizer. As pixels have a value of 0 0r 1 we use binary_crossentropy as the loss function and the metrics uses for the performance of the model is accuracy\n",
        "autoencoder.compile(optimizer='adadelta', loss='binary_crossentropy', metrics=['accuracy'])"
      ],
      "execution_count": 18,
      "outputs": [
        {
          "output_type": "stream",
          "text": [
            "WARNING:tensorflow:From /usr/local/lib/python3.6/dist-packages/keras/optimizers.py:793: The name tf.train.Optimizer is deprecated. Please use tf.compat.v1.train.Optimizer instead.\n",
            "\n",
            "WARNING:tensorflow:From /usr/local/lib/python3.6/dist-packages/keras/backend/tensorflow_backend.py:3657: The name tf.log is deprecated. Please use tf.math.log instead.\n",
            "\n",
            "WARNING:tensorflow:From /usr/local/lib/python3.6/dist-packages/tensorflow_core/python/ops/nn_impl.py:183: where (from tensorflow.python.ops.array_ops) is deprecated and will be removed in a future version.\n",
            "Instructions for updating:\n",
            "Use tf.where in 2.0, which has the same broadcast rule as np.where\n"
          ],
          "name": "stdout"
        }
      ]
    },
    {
      "cell_type": "code",
      "metadata": {
        "id": "N3ls9Ub-7Bw5",
        "colab_type": "code",
        "outputId": "725c389f-01f0-4a84-9dd1-17f6c7cd0727",
        "colab": {
          "base_uri": "https://localhost:8080/",
          "height": 541
        }
      },
      "source": [
        "# We now train the autoencoder using the training data with 50 epochs and batch size of 256. We also shuffle the training data\n",
        "\n",
        "autoencoder.fit(X_train, X_train,\n",
        "                epochs=5,\n",
        "                batch_size=256,\n",
        "                shuffle=True,\n",
        "                validation_data=(X_test, X_test))"
      ],
      "execution_count": 19,
      "outputs": [
        {
          "output_type": "stream",
          "text": [
            "WARNING:tensorflow:From /usr/local/lib/python3.6/dist-packages/keras/backend/tensorflow_backend.py:1033: The name tf.assign_add is deprecated. Please use tf.compat.v1.assign_add instead.\n",
            "\n",
            "WARNING:tensorflow:From /usr/local/lib/python3.6/dist-packages/keras/backend/tensorflow_backend.py:1020: The name tf.assign is deprecated. Please use tf.compat.v1.assign instead.\n",
            "\n",
            "WARNING:tensorflow:From /usr/local/lib/python3.6/dist-packages/keras/backend/tensorflow_backend.py:3005: The name tf.Session is deprecated. Please use tf.compat.v1.Session instead.\n",
            "\n",
            "Train on 60000 samples, validate on 10000 samples\n",
            "Epoch 1/5\n",
            "WARNING:tensorflow:From /usr/local/lib/python3.6/dist-packages/keras/backend/tensorflow_backend.py:190: The name tf.get_default_session is deprecated. Please use tf.compat.v1.get_default_session instead.\n",
            "\n",
            "WARNING:tensorflow:From /usr/local/lib/python3.6/dist-packages/keras/backend/tensorflow_backend.py:197: The name tf.ConfigProto is deprecated. Please use tf.compat.v1.ConfigProto instead.\n",
            "\n",
            "WARNING:tensorflow:From /usr/local/lib/python3.6/dist-packages/keras/backend/tensorflow_backend.py:207: The name tf.global_variables is deprecated. Please use tf.compat.v1.global_variables instead.\n",
            "\n",
            "WARNING:tensorflow:From /usr/local/lib/python3.6/dist-packages/keras/backend/tensorflow_backend.py:216: The name tf.is_variable_initialized is deprecated. Please use tf.compat.v1.is_variable_initialized instead.\n",
            "\n",
            "WARNING:tensorflow:From /usr/local/lib/python3.6/dist-packages/keras/backend/tensorflow_backend.py:223: The name tf.variables_initializer is deprecated. Please use tf.compat.v1.variables_initializer instead.\n",
            "\n",
            "60000/60000 [==============================] - 5s 81us/step - loss: 0.3539 - acc: 0.7544 - val_loss: 0.2703 - val_acc: 0.7964\n",
            "Epoch 2/5\n",
            "60000/60000 [==============================] - 4s 70us/step - loss: 0.2622 - acc: 0.7975 - val_loss: 0.2502 - val_acc: 0.7976\n",
            "Epoch 3/5\n",
            "60000/60000 [==============================] - 4s 71us/step - loss: 0.2391 - acc: 0.7973 - val_loss: 0.2263 - val_acc: 0.7963\n",
            "Epoch 4/5\n",
            "60000/60000 [==============================] - 4s 70us/step - loss: 0.2185 - acc: 0.7974 - val_loss: 0.2088 - val_acc: 0.7980\n",
            "Epoch 5/5\n",
            "60000/60000 [==============================] - 4s 73us/step - loss: 0.2037 - acc: 0.7988 - val_loss: 0.1962 - val_acc: 0.7994\n"
          ],
          "name": "stdout"
        },
        {
          "output_type": "execute_result",
          "data": {
            "text/plain": [
              "<keras.callbacks.History at 0x7f3aa6561518>"
            ]
          },
          "metadata": {
            "tags": []
          },
          "execution_count": 19
        }
      ]
    },
    {
      "cell_type": "code",
      "metadata": {
        "id": "3oLTf5R17Hmc",
        "colab_type": "code",
        "colab": {}
      },
      "source": [
        "# Predicting the test set. We want to view the encoded images as well as the reconstructed images so we fit the test data on both autoencoder as well as encoder\n",
        "\n",
        "encoded_imgs = encoder.predict(X_test)\n",
        "predicted = autoencoder.predict(X_test)"
      ],
      "execution_count": 0,
      "outputs": []
    },
    {
      "cell_type": "code",
      "metadata": {
        "id": "qlsH6pou7Ohh",
        "colab_type": "code",
        "outputId": "b8a9f29d-d04b-4228-b718-68760b500af0",
        "colab": {
          "base_uri": "https://localhost:8080/",
          "height": 272
        }
      },
      "source": [
        "# Let’s plot the original input, encoded images and the reconstructed images using matplotlib\n",
        "\n",
        "plt.figure(figsize=(40, 4))\n",
        "for i in range(10):\n",
        "    # display original\n",
        "    ax = plt.subplot(3, 20, i + 1)\n",
        "    plt.imshow(X_test[i].reshape(28, 28))\n",
        "    plt.gray()\n",
        "    ax.get_xaxis().set_visible(False)\n",
        "    ax.get_yaxis().set_visible(False)\n",
        "    \n",
        "    # display encoded image\n",
        "    ax = plt.subplot(3, 20, i + 1 + 20)\n",
        "    plt.imshow(encoded_imgs[i].reshape(8,4))\n",
        "    plt.gray()\n",
        "    ax.get_xaxis().set_visible(False)\n",
        "    ax.get_yaxis().set_visible(False)\n",
        "     # display reconstruction\n",
        "    ax = plt.subplot(3, 20, 2*20 +i+ 1)\n",
        "    plt.imshow(predicted[i].reshape(28, 28))\n",
        "    plt.gray()\n",
        "    ax.get_xaxis().set_visible(False)\n",
        "    ax.get_yaxis().set_visible(False)\n",
        "plt.show()"
      ],
      "execution_count": 21,
      "outputs": [
        {
          "output_type": "display_data",
          "data": {
            "image/png": "[encoded data removed]",
            "text/plain": [
              "<Figure size 2880x288 with 30 Axes>"
            ]
          },
          "metadata": {
            "tags": []
          }
        }
      ]
    },
    {
      "cell_type": "code",
      "metadata": {
        "id": "Qw4IetoG7eWn",
        "colab_type": "code",
        "outputId": "629dc7d3-ca74-4671-a108-b41f73c1c6ad",
        "colab": {
          "base_uri": "https://localhost:8080/",
          "height": 1000
        }
      },
      "source": [
        "# We now train the autoencoder using the training data with 50 epochs and batch size of 256. We also shuffle the training data\n",
        "\n",
        "autoencoder.fit(X_train, X_train,\n",
        "                epochs=50,\n",
        "                batch_size=256,\n",
        "                shuffle=True,\n",
        "                validation_data=(X_test, X_test))"
      ],
      "execution_count": 22,
      "outputs": [
        {
          "output_type": "stream",
          "text": [
            "Train on 60000 samples, validate on 10000 samples\n",
            "Epoch 1/50\n",
            "60000/60000 [==============================] - 4s 70us/step - loss: 0.1929 - acc: 0.8001 - val_loss: 0.1869 - val_acc: 0.8001\n",
            "Epoch 2/50\n",
            "60000/60000 [==============================] - 4s 70us/step - loss: 0.1847 - acc: 0.8012 - val_loss: 0.1797 - val_acc: 0.8012\n",
            "Epoch 3/50\n",
            "60000/60000 [==============================] - 4s 71us/step - loss: 0.1781 - acc: 0.8023 - val_loss: 0.1737 - val_acc: 0.8021\n",
            "Epoch 4/50\n",
            "60000/60000 [==============================] - 4s 69us/step - loss: 0.1726 - acc: 0.8032 - val_loss: 0.1686 - val_acc: 0.8030\n",
            "Epoch 5/50\n",
            "60000/60000 [==============================] - 4s 70us/step - loss: 0.1676 - acc: 0.8040 - val_loss: 0.1640 - val_acc: 0.8042\n",
            "Epoch 6/50\n",
            "60000/60000 [==============================] - 4s 70us/step - loss: 0.1632 - acc: 0.8048 - val_loss: 0.1597 - val_acc: 0.8047\n",
            "Epoch 7/50\n",
            "60000/60000 [==============================] - 4s 71us/step - loss: 0.1591 - acc: 0.8055 - val_loss: 0.1558 - val_acc: 0.8054\n",
            "Epoch 8/50\n",
            "60000/60000 [==============================] - 4s 71us/step - loss: 0.1554 - acc: 0.8061 - val_loss: 0.1522 - val_acc: 0.8060\n",
            "Epoch 9/50\n",
            "60000/60000 [==============================] - 4s 69us/step - loss: 0.1519 - acc: 0.8067 - val_loss: 0.1490 - val_acc: 0.8067\n",
            "Epoch 10/50\n",
            "60000/60000 [==============================] - 4s 71us/step - loss: 0.1488 - acc: 0.8072 - val_loss: 0.1459 - val_acc: 0.8068\n",
            "Epoch 11/50\n",
            "60000/60000 [==============================] - 4s 70us/step - loss: 0.1459 - acc: 0.8077 - val_loss: 0.1432 - val_acc: 0.8076\n",
            "Epoch 12/50\n",
            "60000/60000 [==============================] - 4s 70us/step - loss: 0.1433 - acc: 0.8081 - val_loss: 0.1406 - val_acc: 0.8080\n",
            "Epoch 13/50\n",
            "60000/60000 [==============================] - 4s 71us/step - loss: 0.1408 - acc: 0.8085 - val_loss: 0.1381 - val_acc: 0.8083\n",
            "Epoch 14/50\n",
            "60000/60000 [==============================] - 5s 78us/step - loss: 0.1384 - acc: 0.8089 - val_loss: 0.1357 - val_acc: 0.8085\n",
            "Epoch 15/50\n",
            "60000/60000 [==============================] - 5s 79us/step - loss: 0.1362 - acc: 0.8093 - val_loss: 0.1336 - val_acc: 0.8089\n",
            "Epoch 16/50\n",
            "60000/60000 [==============================] - 4s 73us/step - loss: 0.1341 - acc: 0.8096 - val_loss: 0.1314 - val_acc: 0.8091\n",
            "Epoch 17/50\n",
            "60000/60000 [==============================] - 4s 72us/step - loss: 0.1321 - acc: 0.8099 - val_loss: 0.1294 - val_acc: 0.8094\n",
            "Epoch 18/50\n",
            "60000/60000 [==============================] - 4s 71us/step - loss: 0.1301 - acc: 0.8102 - val_loss: 0.1275 - val_acc: 0.8097\n",
            "Epoch 19/50\n",
            "60000/60000 [==============================] - 4s 71us/step - loss: 0.1283 - acc: 0.8105 - val_loss: 0.1257 - val_acc: 0.8099\n",
            "Epoch 20/50\n",
            "60000/60000 [==============================] - 4s 72us/step - loss: 0.1265 - acc: 0.8108 - val_loss: 0.1239 - val_acc: 0.8102\n",
            "Epoch 21/50\n",
            "60000/60000 [==============================] - 4s 71us/step - loss: 0.1247 - acc: 0.8110 - val_loss: 0.1222 - val_acc: 0.8104\n",
            "Epoch 22/50\n",
            "60000/60000 [==============================] - 4s 72us/step - loss: 0.1231 - acc: 0.8113 - val_loss: 0.1206 - val_acc: 0.8106\n",
            "Epoch 23/50\n",
            "60000/60000 [==============================] - 4s 70us/step - loss: 0.1215 - acc: 0.8115 - val_loss: 0.1190 - val_acc: 0.8108\n",
            "Epoch 24/50\n",
            "60000/60000 [==============================] - 4s 73us/step - loss: 0.1200 - acc: 0.8117 - val_loss: 0.1176 - val_acc: 0.8110\n",
            "Epoch 25/50\n",
            "60000/60000 [==============================] - 4s 71us/step - loss: 0.1186 - acc: 0.8119 - val_loss: 0.1163 - val_acc: 0.8113\n",
            "Epoch 26/50\n",
            "60000/60000 [==============================] - 4s 71us/step - loss: 0.1173 - acc: 0.8121 - val_loss: 0.1149 - val_acc: 0.8113\n",
            "Epoch 27/50\n",
            "60000/60000 [==============================] - 4s 71us/step - loss: 0.1160 - acc: 0.8122 - val_loss: 0.1137 - val_acc: 0.8115\n",
            "Epoch 28/50\n",
            "60000/60000 [==============================] - 4s 73us/step - loss: 0.1148 - acc: 0.8124 - val_loss: 0.1125 - val_acc: 0.8116\n",
            "Epoch 29/50\n",
            "60000/60000 [==============================] - 4s 72us/step - loss: 0.1137 - acc: 0.8125 - val_loss: 0.1114 - val_acc: 0.8117\n",
            "Epoch 30/50\n",
            "60000/60000 [==============================] - 4s 71us/step - loss: 0.1127 - acc: 0.8126 - val_loss: 0.1104 - val_acc: 0.8118\n",
            "Epoch 31/50\n",
            "60000/60000 [==============================] - 4s 73us/step - loss: 0.1117 - acc: 0.8127 - val_loss: 0.1095 - val_acc: 0.8120\n",
            "Epoch 32/50\n",
            "60000/60000 [==============================] - 4s 72us/step - loss: 0.1108 - acc: 0.8128 - val_loss: 0.1086 - val_acc: 0.8120\n",
            "Epoch 33/50\n",
            "60000/60000 [==============================] - 4s 73us/step - loss: 0.1099 - acc: 0.8129 - val_loss: 0.1078 - val_acc: 0.8121\n",
            "Epoch 34/50\n",
            "60000/60000 [==============================] - 4s 71us/step - loss: 0.1091 - acc: 0.8130 - val_loss: 0.1070 - val_acc: 0.8122\n",
            "Epoch 35/50\n",
            "60000/60000 [==============================] - 4s 72us/step - loss: 0.1084 - acc: 0.8131 - val_loss: 0.1063 - val_acc: 0.8122\n",
            "Epoch 36/50\n",
            "60000/60000 [==============================] - 4s 70us/step - loss: 0.1077 - acc: 0.8131 - val_loss: 0.1056 - val_acc: 0.8123\n",
            "Epoch 37/50\n",
            "60000/60000 [==============================] - 4s 70us/step - loss: 0.1070 - acc: 0.8132 - val_loss: 0.1050 - val_acc: 0.8124\n",
            "Epoch 38/50\n",
            "60000/60000 [==============================] - 4s 74us/step - loss: 0.1064 - acc: 0.8132 - val_loss: 0.1044 - val_acc: 0.8124\n",
            "Epoch 39/50\n",
            "60000/60000 [==============================] - 4s 71us/step - loss: 0.1058 - acc: 0.8133 - val_loss: 0.1038 - val_acc: 0.8124\n",
            "Epoch 40/50\n",
            "60000/60000 [==============================] - 4s 71us/step - loss: 0.1053 - acc: 0.8133 - val_loss: 0.1033 - val_acc: 0.8125\n",
            "Epoch 41/50\n",
            "60000/60000 [==============================] - 4s 72us/step - loss: 0.1047 - acc: 0.8134 - val_loss: 0.1028 - val_acc: 0.8125\n",
            "Epoch 42/50\n",
            "60000/60000 [==============================] - 4s 72us/step - loss: 0.1043 - acc: 0.8134 - val_loss: 0.1024 - val_acc: 0.8126\n",
            "Epoch 43/50\n",
            "60000/60000 [==============================] - 4s 73us/step - loss: 0.1038 - acc: 0.8135 - val_loss: 0.1019 - val_acc: 0.8126\n",
            "Epoch 44/50\n",
            "60000/60000 [==============================] - 4s 72us/step - loss: 0.1034 - acc: 0.8135 - val_loss: 0.1015 - val_acc: 0.8126\n",
            "Epoch 45/50\n",
            "60000/60000 [==============================] - 4s 73us/step - loss: 0.1030 - acc: 0.8135 - val_loss: 0.1012 - val_acc: 0.8127\n",
            "Epoch 46/50\n",
            "60000/60000 [==============================] - 4s 72us/step - loss: 0.1026 - acc: 0.8136 - val_loss: 0.1008 - val_acc: 0.8127\n",
            "Epoch 47/50\n",
            "60000/60000 [==============================] - 4s 73us/step - loss: 0.1022 - acc: 0.8136 - val_loss: 0.1005 - val_acc: 0.8127\n",
            "Epoch 48/50\n",
            "60000/60000 [==============================] - 4s 73us/step - loss: 0.1019 - acc: 0.8136 - val_loss: 0.1001 - val_acc: 0.8127\n",
            "Epoch 49/50\n",
            "60000/60000 [==============================] - 4s 73us/step - loss: 0.1016 - acc: 0.8136 - val_loss: 0.0998 - val_acc: 0.8128\n",
            "Epoch 50/50\n",
            "60000/60000 [==============================] - 4s 73us/step - loss: 0.1013 - acc: 0.8137 - val_loss: 0.0995 - val_acc: 0.8128\n"
          ],
          "name": "stdout"
        },
        {
          "output_type": "execute_result",
          "data": {
            "text/plain": [
              "<keras.callbacks.History at 0x7f3aa6459400>"
            ]
          },
          "metadata": {
            "tags": []
          },
          "execution_count": 22
        }
      ]
    },
    {
      "cell_type": "code",
      "metadata": {
        "id": "34wHuBYa7mX7",
        "colab_type": "code",
        "colab": {}
      },
      "source": [
        "# Predicting the test set. We want to view the encoded images as well as the reconstructed images so we fit the test data on both autoencoder as well as encoder\n",
        "\n",
        "encoded_imgs = encoder.predict(X_test)\n",
        "predicted = autoencoder.predict(X_test)"
      ],
      "execution_count": 0,
      "outputs": []
    },
    {
      "cell_type": "code",
      "metadata": {
        "id": "FtRlKHCn7UNV",
        "colab_type": "code",
        "outputId": "4910df44-7d45-429f-ba18-beec4bf03959",
        "colab": {
          "base_uri": "https://localhost:8080/",
          "height": 272
        }
      },
      "source": [
        "# Let’s plot the original input, encoded images and the reconstructed images using matplotlib\n",
        "\n",
        "plt.figure(figsize=(40, 4))\n",
        "for i in range(10):\n",
        "    # display original\n",
        "    ax = plt.subplot(3, 20, i + 1)\n",
        "    plt.imshow(X_test[i].reshape(28, 28))\n",
        "    plt.gray()\n",
        "    ax.get_xaxis().set_visible(False)\n",
        "    ax.get_yaxis().set_visible(False)\n",
        "    \n",
        "    # display encoded image\n",
        "    ax = plt.subplot(3, 20, i + 1 + 20)\n",
        "    plt.imshow(encoded_imgs[i].reshape(8,4))\n",
        "    plt.gray()\n",
        "    ax.get_xaxis().set_visible(False)\n",
        "    ax.get_yaxis().set_visible(False)\n",
        "     # display reconstruction\n",
        "    ax = plt.subplot(3, 20, 2*20 +i+ 1)\n",
        "    plt.imshow(predicted[i].reshape(28, 28))\n",
        "    plt.gray()\n",
        "    ax.get_xaxis().set_visible(False)\n",
        "    ax.get_yaxis().set_visible(False)\n",
        "plt.show()"
      ],
      "execution_count": 25,
      "outputs": [
        {
          "output_type": "display_data",
          "data": {
            "image/png": "[encoded data removed]",
            "text/plain": [
              "<Figure size 2880x288 with 30 Axes>"
            ]
          },
          "metadata": {
            "tags": []
          }
        }
      ]
    }
  ]
}