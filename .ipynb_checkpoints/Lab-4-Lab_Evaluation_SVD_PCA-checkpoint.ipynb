{
 "cells": [
  {
   "cell_type": "code",
   "execution_count": 227,
   "metadata": {
    "collapsed": true
   },
   "outputs": [],
   "source": [
    "import pandas as pd\n",
    "import numpy as np\n",
    "import matplotlib.pyplot as plt"
   ]
  },
  {
   "cell_type": "code",
   "execution_count": 228,
   "metadata": {
    "collapsed": true
   },
   "outputs": [],
   "source": [
    "df=pd.read_csv('C:\\\\Users\\\\exam\\\\Desktop\\\\linear_regression_data.csv')"
   ]
  },
  {
   "cell_type": "code",
   "execution_count": 229,
   "metadata": {},
   "outputs": [
    {
     "data": {
      "text/html": [
       "<div>\n",
       "<style scoped>\n",
       "    .dataframe tbody tr th:only-of-type {\n",
       "        vertical-align: middle;\n",
       "    }\n",
       "\n",
       "    .dataframe tbody tr th {\n",
       "        vertical-align: top;\n",
       "    }\n",
       "\n",
       "    .dataframe thead th {\n",
       "        text-align: right;\n",
       "    }\n",
       "</style>\n",
       "<table border=\"1\" class=\"dataframe\">\n",
       "  <thead>\n",
       "    <tr style=\"text-align: right;\">\n",
       "      <th></th>\n",
       "      <th>Depthm</th>\n",
       "      <th>T_degC</th>\n",
       "      <th>Salnty</th>\n",
       "      <th>STheta</th>\n",
       "      <th>RecInd</th>\n",
       "      <th>T_prec</th>\n",
       "      <th>S_prec</th>\n",
       "      <th>DarkAq</th>\n",
       "      <th>MeanAq</th>\n",
       "      <th>R_Depth</th>\n",
       "      <th>R_POTEMP</th>\n",
       "      <th>R_SALINITY</th>\n",
       "      <th>R_SIGMA</th>\n",
       "      <th>R_SVA</th>\n",
       "      <th>R_DYNHT</th>\n",
       "      <th>R_PRES</th>\n",
       "      <th>R_TEMP</th>\n",
       "    </tr>\n",
       "  </thead>\n",
       "  <tbody>\n",
       "    <tr>\n",
       "      <th>0</th>\n",
       "      <td>0</td>\n",
       "      <td>10.50</td>\n",
       "      <td>33.440</td>\n",
       "      <td>25.649</td>\n",
       "      <td>3</td>\n",
       "      <td>1.0</td>\n",
       "      <td>2.0</td>\n",
       "      <td>9</td>\n",
       "      <td>9</td>\n",
       "      <td>0</td>\n",
       "      <td>10.50</td>\n",
       "      <td>33.440</td>\n",
       "      <td>25.64</td>\n",
       "      <td>233.0</td>\n",
       "      <td>0.00</td>\n",
       "      <td>0</td>\n",
       "      <td>10.50</td>\n",
       "    </tr>\n",
       "    <tr>\n",
       "      <th>1</th>\n",
       "      <td>8</td>\n",
       "      <td>10.46</td>\n",
       "      <td>33.440</td>\n",
       "      <td>25.656</td>\n",
       "      <td>3</td>\n",
       "      <td>2.0</td>\n",
       "      <td>2.0</td>\n",
       "      <td>9</td>\n",
       "      <td>9</td>\n",
       "      <td>8</td>\n",
       "      <td>10.46</td>\n",
       "      <td>33.440</td>\n",
       "      <td>25.65</td>\n",
       "      <td>232.5</td>\n",
       "      <td>0.01</td>\n",
       "      <td>8</td>\n",
       "      <td>10.46</td>\n",
       "    </tr>\n",
       "    <tr>\n",
       "      <th>2</th>\n",
       "      <td>10</td>\n",
       "      <td>10.46</td>\n",
       "      <td>33.437</td>\n",
       "      <td>25.654</td>\n",
       "      <td>7</td>\n",
       "      <td>2.0</td>\n",
       "      <td>3.0</td>\n",
       "      <td>9</td>\n",
       "      <td>9</td>\n",
       "      <td>10</td>\n",
       "      <td>10.46</td>\n",
       "      <td>33.437</td>\n",
       "      <td>25.65</td>\n",
       "      <td>232.8</td>\n",
       "      <td>0.02</td>\n",
       "      <td>10</td>\n",
       "      <td>10.46</td>\n",
       "    </tr>\n",
       "    <tr>\n",
       "      <th>3</th>\n",
       "      <td>19</td>\n",
       "      <td>10.45</td>\n",
       "      <td>33.420</td>\n",
       "      <td>25.643</td>\n",
       "      <td>3</td>\n",
       "      <td>2.0</td>\n",
       "      <td>2.0</td>\n",
       "      <td>9</td>\n",
       "      <td>9</td>\n",
       "      <td>19</td>\n",
       "      <td>10.45</td>\n",
       "      <td>33.420</td>\n",
       "      <td>25.64</td>\n",
       "      <td>234.1</td>\n",
       "      <td>0.04</td>\n",
       "      <td>19</td>\n",
       "      <td>10.45</td>\n",
       "    </tr>\n",
       "    <tr>\n",
       "      <th>4</th>\n",
       "      <td>20</td>\n",
       "      <td>10.45</td>\n",
       "      <td>33.421</td>\n",
       "      <td>25.643</td>\n",
       "      <td>7</td>\n",
       "      <td>2.0</td>\n",
       "      <td>3.0</td>\n",
       "      <td>9</td>\n",
       "      <td>9</td>\n",
       "      <td>20</td>\n",
       "      <td>10.45</td>\n",
       "      <td>33.421</td>\n",
       "      <td>25.64</td>\n",
       "      <td>234.0</td>\n",
       "      <td>0.04</td>\n",
       "      <td>20</td>\n",
       "      <td>10.45</td>\n",
       "    </tr>\n",
       "    <tr>\n",
       "      <th>5</th>\n",
       "      <td>30</td>\n",
       "      <td>10.45</td>\n",
       "      <td>33.431</td>\n",
       "      <td>25.651</td>\n",
       "      <td>7</td>\n",
       "      <td>2.0</td>\n",
       "      <td>3.0</td>\n",
       "      <td>9</td>\n",
       "      <td>9</td>\n",
       "      <td>30</td>\n",
       "      <td>10.45</td>\n",
       "      <td>33.431</td>\n",
       "      <td>25.65</td>\n",
       "      <td>233.5</td>\n",
       "      <td>0.07</td>\n",
       "      <td>30</td>\n",
       "      <td>10.45</td>\n",
       "    </tr>\n",
       "    <tr>\n",
       "      <th>6</th>\n",
       "      <td>39</td>\n",
       "      <td>10.45</td>\n",
       "      <td>33.440</td>\n",
       "      <td>25.658</td>\n",
       "      <td>3</td>\n",
       "      <td>2.0</td>\n",
       "      <td>2.0</td>\n",
       "      <td>9</td>\n",
       "      <td>9</td>\n",
       "      <td>39</td>\n",
       "      <td>10.45</td>\n",
       "      <td>33.440</td>\n",
       "      <td>25.65</td>\n",
       "      <td>233.0</td>\n",
       "      <td>0.09</td>\n",
       "      <td>39</td>\n",
       "      <td>10.45</td>\n",
       "    </tr>\n",
       "    <tr>\n",
       "      <th>7</th>\n",
       "      <td>50</td>\n",
       "      <td>10.24</td>\n",
       "      <td>33.424</td>\n",
       "      <td>25.682</td>\n",
       "      <td>7</td>\n",
       "      <td>2.0</td>\n",
       "      <td>3.0</td>\n",
       "      <td>9</td>\n",
       "      <td>9</td>\n",
       "      <td>50</td>\n",
       "      <td>10.23</td>\n",
       "      <td>33.424</td>\n",
       "      <td>25.68</td>\n",
       "      <td>231.0</td>\n",
       "      <td>0.11</td>\n",
       "      <td>50</td>\n",
       "      <td>10.24</td>\n",
       "    </tr>\n",
       "    <tr>\n",
       "      <th>8</th>\n",
       "      <td>58</td>\n",
       "      <td>10.06</td>\n",
       "      <td>33.420</td>\n",
       "      <td>25.710</td>\n",
       "      <td>3</td>\n",
       "      <td>2.0</td>\n",
       "      <td>2.0</td>\n",
       "      <td>9</td>\n",
       "      <td>9</td>\n",
       "      <td>58</td>\n",
       "      <td>10.05</td>\n",
       "      <td>33.420</td>\n",
       "      <td>25.71</td>\n",
       "      <td>228.5</td>\n",
       "      <td>0.13</td>\n",
       "      <td>58</td>\n",
       "      <td>10.06</td>\n",
       "    </tr>\n",
       "    <tr>\n",
       "      <th>9</th>\n",
       "      <td>75</td>\n",
       "      <td>9.86</td>\n",
       "      <td>33.494</td>\n",
       "      <td>25.801</td>\n",
       "      <td>7</td>\n",
       "      <td>2.0</td>\n",
       "      <td>3.0</td>\n",
       "      <td>9</td>\n",
       "      <td>9</td>\n",
       "      <td>75</td>\n",
       "      <td>9.85</td>\n",
       "      <td>33.494</td>\n",
       "      <td>25.80</td>\n",
       "      <td>220.1</td>\n",
       "      <td>0.17</td>\n",
       "      <td>75</td>\n",
       "      <td>9.86</td>\n",
       "    </tr>\n",
       "    <tr>\n",
       "      <th>10</th>\n",
       "      <td>78</td>\n",
       "      <td>9.83</td>\n",
       "      <td>33.510</td>\n",
       "      <td>25.819</td>\n",
       "      <td>3</td>\n",
       "      <td>2.0</td>\n",
       "      <td>2.0</td>\n",
       "      <td>9</td>\n",
       "      <td>9</td>\n",
       "      <td>78</td>\n",
       "      <td>9.82</td>\n",
       "      <td>33.510</td>\n",
       "      <td>25.81</td>\n",
       "      <td>218.6</td>\n",
       "      <td>0.18</td>\n",
       "      <td>78</td>\n",
       "      <td>9.83</td>\n",
       "    </tr>\n",
       "    <tr>\n",
       "      <th>11</th>\n",
       "      <td>100</td>\n",
       "      <td>9.67</td>\n",
       "      <td>33.580</td>\n",
       "      <td>25.900</td>\n",
       "      <td>7</td>\n",
       "      <td>2.0</td>\n",
       "      <td>3.0</td>\n",
       "      <td>9</td>\n",
       "      <td>9</td>\n",
       "      <td>100</td>\n",
       "      <td>9.66</td>\n",
       "      <td>33.580</td>\n",
       "      <td>25.90</td>\n",
       "      <td>211.2</td>\n",
       "      <td>0.22</td>\n",
       "      <td>101</td>\n",
       "      <td>9.67</td>\n",
       "    </tr>\n",
       "    <tr>\n",
       "      <th>12</th>\n",
       "      <td>117</td>\n",
       "      <td>9.50</td>\n",
       "      <td>33.640</td>\n",
       "      <td>25.975</td>\n",
       "      <td>3</td>\n",
       "      <td>2.0</td>\n",
       "      <td>2.0</td>\n",
       "      <td>9</td>\n",
       "      <td>9</td>\n",
       "      <td>117</td>\n",
       "      <td>9.49</td>\n",
       "      <td>33.640</td>\n",
       "      <td>25.97</td>\n",
       "      <td>204.5</td>\n",
       "      <td>0.26</td>\n",
       "      <td>118</td>\n",
       "      <td>9.50</td>\n",
       "    </tr>\n",
       "    <tr>\n",
       "      <th>13</th>\n",
       "      <td>125</td>\n",
       "      <td>9.32</td>\n",
       "      <td>33.689</td>\n",
       "      <td>26.043</td>\n",
       "      <td>7</td>\n",
       "      <td>2.0</td>\n",
       "      <td>3.0</td>\n",
       "      <td>9</td>\n",
       "      <td>9</td>\n",
       "      <td>125</td>\n",
       "      <td>9.31</td>\n",
       "      <td>33.689</td>\n",
       "      <td>26.04</td>\n",
       "      <td>198.2</td>\n",
       "      <td>0.27</td>\n",
       "      <td>126</td>\n",
       "      <td>9.32</td>\n",
       "    </tr>\n",
       "    <tr>\n",
       "      <th>14</th>\n",
       "      <td>150</td>\n",
       "      <td>8.76</td>\n",
       "      <td>33.847</td>\n",
       "      <td>26.256</td>\n",
       "      <td>7</td>\n",
       "      <td>2.0</td>\n",
       "      <td>3.0</td>\n",
       "      <td>9</td>\n",
       "      <td>9</td>\n",
       "      <td>150</td>\n",
       "      <td>8.74</td>\n",
       "      <td>33.847</td>\n",
       "      <td>26.25</td>\n",
       "      <td>178.3</td>\n",
       "      <td>0.32</td>\n",
       "      <td>151</td>\n",
       "      <td>8.76</td>\n",
       "    </tr>\n",
       "    <tr>\n",
       "      <th>15</th>\n",
       "      <td>152</td>\n",
       "      <td>8.71</td>\n",
       "      <td>33.860</td>\n",
       "      <td>26.274</td>\n",
       "      <td>3</td>\n",
       "      <td>2.0</td>\n",
       "      <td>2.0</td>\n",
       "      <td>9</td>\n",
       "      <td>9</td>\n",
       "      <td>152</td>\n",
       "      <td>8.69</td>\n",
       "      <td>33.860</td>\n",
       "      <td>26.27</td>\n",
       "      <td>176.7</td>\n",
       "      <td>0.32</td>\n",
       "      <td>153</td>\n",
       "      <td>8.71</td>\n",
       "    </tr>\n",
       "    <tr>\n",
       "      <th>16</th>\n",
       "      <td>200</td>\n",
       "      <td>8.53</td>\n",
       "      <td>33.876</td>\n",
       "      <td>26.315</td>\n",
       "      <td>7</td>\n",
       "      <td>2.0</td>\n",
       "      <td>3.0</td>\n",
       "      <td>9</td>\n",
       "      <td>9</td>\n",
       "      <td>200</td>\n",
       "      <td>8.51</td>\n",
       "      <td>33.876</td>\n",
       "      <td>26.31</td>\n",
       "      <td>173.6</td>\n",
       "      <td>0.41</td>\n",
       "      <td>201</td>\n",
       "      <td>8.53</td>\n",
       "    </tr>\n",
       "    <tr>\n",
       "      <th>17</th>\n",
       "      <td>221</td>\n",
       "      <td>8.45</td>\n",
       "      <td>NaN</td>\n",
       "      <td>NaN</td>\n",
       "      <td>3</td>\n",
       "      <td>2.0</td>\n",
       "      <td>NaN</td>\n",
       "      <td>9</td>\n",
       "      <td>9</td>\n",
       "      <td>221</td>\n",
       "      <td>8.43</td>\n",
       "      <td>NaN</td>\n",
       "      <td>NaN</td>\n",
       "      <td>NaN</td>\n",
       "      <td>0.44</td>\n",
       "      <td>222</td>\n",
       "      <td>8.45</td>\n",
       "    </tr>\n",
       "    <tr>\n",
       "      <th>18</th>\n",
       "      <td>250</td>\n",
       "      <td>8.26</td>\n",
       "      <td>33.926</td>\n",
       "      <td>26.396</td>\n",
       "      <td>7</td>\n",
       "      <td>2.0</td>\n",
       "      <td>3.0</td>\n",
       "      <td>9</td>\n",
       "      <td>9</td>\n",
       "      <td>250</td>\n",
       "      <td>8.23</td>\n",
       "      <td>33.926</td>\n",
       "      <td>26.39</td>\n",
       "      <td>166.8</td>\n",
       "      <td>0.49</td>\n",
       "      <td>252</td>\n",
       "      <td>8.26</td>\n",
       "    </tr>\n",
       "    <tr>\n",
       "      <th>19</th>\n",
       "      <td>285</td>\n",
       "      <td>7.96</td>\n",
       "      <td>33.980</td>\n",
       "      <td>26.483</td>\n",
       "      <td>3</td>\n",
       "      <td>2.0</td>\n",
       "      <td>2.0</td>\n",
       "      <td>9</td>\n",
       "      <td>9</td>\n",
       "      <td>285</td>\n",
       "      <td>7.93</td>\n",
       "      <td>33.980</td>\n",
       "      <td>26.48</td>\n",
       "      <td>158.9</td>\n",
       "      <td>0.55</td>\n",
       "      <td>287</td>\n",
       "      <td>7.96</td>\n",
       "    </tr>\n",
       "  </tbody>\n",
       "</table>\n",
       "</div>"
      ],
      "text/plain": [
       "    Depthm  T_degC  Salnty  STheta  RecInd  T_prec  S_prec  DarkAq  MeanAq  \\\n",
       "0        0   10.50  33.440  25.649       3     1.0     2.0       9       9   \n",
       "1        8   10.46  33.440  25.656       3     2.0     2.0       9       9   \n",
       "2       10   10.46  33.437  25.654       7     2.0     3.0       9       9   \n",
       "3       19   10.45  33.420  25.643       3     2.0     2.0       9       9   \n",
       "4       20   10.45  33.421  25.643       7     2.0     3.0       9       9   \n",
       "5       30   10.45  33.431  25.651       7     2.0     3.0       9       9   \n",
       "6       39   10.45  33.440  25.658       3     2.0     2.0       9       9   \n",
       "7       50   10.24  33.424  25.682       7     2.0     3.0       9       9   \n",
       "8       58   10.06  33.420  25.710       3     2.0     2.0       9       9   \n",
       "9       75    9.86  33.494  25.801       7     2.0     3.0       9       9   \n",
       "10      78    9.83  33.510  25.819       3     2.0     2.0       9       9   \n",
       "11     100    9.67  33.580  25.900       7     2.0     3.0       9       9   \n",
       "12     117    9.50  33.640  25.975       3     2.0     2.0       9       9   \n",
       "13     125    9.32  33.689  26.043       7     2.0     3.0       9       9   \n",
       "14     150    8.76  33.847  26.256       7     2.0     3.0       9       9   \n",
       "15     152    8.71  33.860  26.274       3     2.0     2.0       9       9   \n",
       "16     200    8.53  33.876  26.315       7     2.0     3.0       9       9   \n",
       "17     221    8.45     NaN     NaN       3     2.0     NaN       9       9   \n",
       "18     250    8.26  33.926  26.396       7     2.0     3.0       9       9   \n",
       "19     285    7.96  33.980  26.483       3     2.0     2.0       9       9   \n",
       "\n",
       "    R_Depth  R_POTEMP  R_SALINITY  R_SIGMA  R_SVA  R_DYNHT  R_PRES  R_TEMP  \n",
       "0         0     10.50      33.440    25.64  233.0     0.00       0   10.50  \n",
       "1         8     10.46      33.440    25.65  232.5     0.01       8   10.46  \n",
       "2        10     10.46      33.437    25.65  232.8     0.02      10   10.46  \n",
       "3        19     10.45      33.420    25.64  234.1     0.04      19   10.45  \n",
       "4        20     10.45      33.421    25.64  234.0     0.04      20   10.45  \n",
       "5        30     10.45      33.431    25.65  233.5     0.07      30   10.45  \n",
       "6        39     10.45      33.440    25.65  233.0     0.09      39   10.45  \n",
       "7        50     10.23      33.424    25.68  231.0     0.11      50   10.24  \n",
       "8        58     10.05      33.420    25.71  228.5     0.13      58   10.06  \n",
       "9        75      9.85      33.494    25.80  220.1     0.17      75    9.86  \n",
       "10       78      9.82      33.510    25.81  218.6     0.18      78    9.83  \n",
       "11      100      9.66      33.580    25.90  211.2     0.22     101    9.67  \n",
       "12      117      9.49      33.640    25.97  204.5     0.26     118    9.50  \n",
       "13      125      9.31      33.689    26.04  198.2     0.27     126    9.32  \n",
       "14      150      8.74      33.847    26.25  178.3     0.32     151    8.76  \n",
       "15      152      8.69      33.860    26.27  176.7     0.32     153    8.71  \n",
       "16      200      8.51      33.876    26.31  173.6     0.41     201    8.53  \n",
       "17      221      8.43         NaN      NaN    NaN     0.44     222    8.45  \n",
       "18      250      8.23      33.926    26.39  166.8     0.49     252    8.26  \n",
       "19      285      7.93      33.980    26.48  158.9     0.55     287    7.96  "
      ]
     },
     "execution_count": 229,
     "metadata": {},
     "output_type": "execute_result"
    }
   ],
   "source": [
    "df.head(20)"
   ]
  },
  {
   "cell_type": "code",
   "execution_count": 230,
   "metadata": {},
   "outputs": [
    {
     "data": {
      "text/plain": [
       "(11740, 17)"
      ]
     },
     "execution_count": 230,
     "metadata": {},
     "output_type": "execute_result"
    }
   ],
   "source": [
    "df.shape"
   ]
  },
  {
   "cell_type": "code",
   "execution_count": 231,
   "metadata": {
    "collapsed": true
   },
   "outputs": [],
   "source": [
    "p=df.iloc[:,0:16]"
   ]
  },
  {
   "cell_type": "code",
   "execution_count": 232,
   "metadata": {},
   "outputs": [
    {
     "data": {
      "text/html": [
       "<div>\n",
       "<style scoped>\n",
       "    .dataframe tbody tr th:only-of-type {\n",
       "        vertical-align: middle;\n",
       "    }\n",
       "\n",
       "    .dataframe tbody tr th {\n",
       "        vertical-align: top;\n",
       "    }\n",
       "\n",
       "    .dataframe thead th {\n",
       "        text-align: right;\n",
       "    }\n",
       "</style>\n",
       "<table border=\"1\" class=\"dataframe\">\n",
       "  <thead>\n",
       "    <tr style=\"text-align: right;\">\n",
       "      <th></th>\n",
       "      <th>R_TEMP</th>\n",
       "    </tr>\n",
       "  </thead>\n",
       "  <tbody>\n",
       "    <tr>\n",
       "      <th>0</th>\n",
       "      <td>10.50</td>\n",
       "    </tr>\n",
       "    <tr>\n",
       "      <th>1</th>\n",
       "      <td>10.46</td>\n",
       "    </tr>\n",
       "    <tr>\n",
       "      <th>2</th>\n",
       "      <td>10.46</td>\n",
       "    </tr>\n",
       "    <tr>\n",
       "      <th>3</th>\n",
       "      <td>10.45</td>\n",
       "    </tr>\n",
       "    <tr>\n",
       "      <th>4</th>\n",
       "      <td>10.45</td>\n",
       "    </tr>\n",
       "  </tbody>\n",
       "</table>\n",
       "</div>"
      ],
      "text/plain": [
       "   R_TEMP\n",
       "0   10.50\n",
       "1   10.46\n",
       "2   10.46\n",
       "3   10.45\n",
       "4   10.45"
      ]
     },
     "execution_count": 232,
     "metadata": {},
     "output_type": "execute_result"
    }
   ],
   "source": [
    "q=df.iloc[:,16:17]\n",
    "q.head()"
   ]
  },
  {
   "cell_type": "code",
   "execution_count": 233,
   "metadata": {
    "collapsed": true
   },
   "outputs": [],
   "source": [
    "p=p.ffill()"
   ]
  },
  {
   "cell_type": "code",
   "execution_count": 234,
   "metadata": {
    "collapsed": true
   },
   "outputs": [],
   "source": [
    "q=q.ffill()"
   ]
  },
  {
   "cell_type": "code",
   "execution_count": 235,
   "metadata": {},
   "outputs": [
    {
     "data": {
      "text/plain": [
       "<matplotlib.collections.PathCollection at 0xbe9ec88>"
      ]
     },
     "execution_count": 235,
     "metadata": {},
     "output_type": "execute_result"
    },
    {
     "data": {
      "image/png": "[encoded data removed]",
      "text/plain": [
       "<Figure size 432x288 with 1 Axes>"
      ]
     },
     "metadata": {
      "needs_background": "light"
     },
     "output_type": "display_data"
    }
   ],
   "source": [
    "#3.Create a line plot between depthm and R_temp\n",
    "\n",
    "plt.scatter(x=p['Depthm'],y=q['R_TEMP'])"
   ]
  },
  {
   "cell_type": "code",
   "execution_count": 236,
   "metadata": {
    "collapsed": true
   },
   "outputs": [],
   "source": [
    "from sklearn.model_selection import train_test_split\n",
    "p_train,p_test,q_train,q_test=train_test_split(p,q,test_size=0.2,random_state=0)"
   ]
  },
  {
   "cell_type": "code",
   "execution_count": 237,
   "metadata": {
    "collapsed": true
   },
   "outputs": [],
   "source": [
    "#4.Create a linear regression model to predict the R-temp\n",
    "\n",
    "from sklearn.linear_model import LinearRegression\n"
   ]
  },
  {
   "cell_type": "code",
   "execution_count": 238,
   "metadata": {
    "collapsed": true
   },
   "outputs": [],
   "source": [
    "model=LinearRegression()"
   ]
  },
  {
   "cell_type": "code",
   "execution_count": 239,
   "metadata": {
    "collapsed": true
   },
   "outputs": [],
   "source": [
    "model.fit(p_train,q_train)\n",
    "q_pred=model.predict(p_test)\n"
   ]
  },
  {
   "cell_type": "code",
   "execution_count": 240,
   "metadata": {
    "collapsed": true
   },
   "outputs": [],
   "source": [
    "from sklearn.metrics import confusion_matrix,accuracy_score,r2_score,mean_squared_error\n"
   ]
  },
  {
   "cell_type": "code",
   "execution_count": 241,
   "metadata": {
    "collapsed": true
   },
   "outputs": [],
   "source": [
    "rmse=np.sqrt(np.sum(np.square(q_pred-q_test))/2348)"
   ]
  },
  {
   "cell_type": "code",
   "execution_count": 242,
   "metadata": {},
   "outputs": [
    {
     "data": {
      "text/plain": [
       "1.0"
      ]
     },
     "execution_count": 242,
     "metadata": {},
     "output_type": "execute_result"
    }
   ],
   "source": [
    "r2_score(q_pred,q_test)"
   ]
  },
  {
   "cell_type": "code",
   "execution_count": 243,
   "metadata": {},
   "outputs": [
    {
     "data": {
      "text/plain": [
       "R_TEMP    4.021408e-14\n",
       "dtype: float64"
      ]
     },
     "execution_count": 243,
     "metadata": {},
     "output_type": "execute_result"
    }
   ],
   "source": [
    "rmse"
   ]
  },
  {
   "cell_type": "code",
   "execution_count": 244,
   "metadata": {
    "collapsed": true
   },
   "outputs": [],
   "source": [
    "mse=mean_squared_error(q_pred,q_test)"
   ]
  },
  {
   "cell_type": "code",
   "execution_count": 245,
   "metadata": {
    "collapsed": true
   },
   "outputs": [],
   "source": [
    "rmse=np.sqrt(mse)"
   ]
  },
  {
   "cell_type": "code",
   "execution_count": 246,
   "metadata": {},
   "outputs": [
    {
     "data": {
      "text/plain": [
       "4.02140794259893e-14"
      ]
     },
     "execution_count": 246,
     "metadata": {},
     "output_type": "execute_result"
    }
   ],
   "source": [
    "rmse"
   ]
  },
  {
   "cell_type": "code",
   "execution_count": 247,
   "metadata": {},
   "outputs": [
    {
     "name": "stderr",
     "output_type": "stream",
     "text": [
      "C:\\ProgramData\\Anaconda3\\envs\\neuralnets\\lib\\site-packages\\sklearn\\preprocessing\\data.py:625: DataConversionWarning: Data with input dtype int64, float64 were all converted to float64 by StandardScaler.\n",
      "  return self.partial_fit(X, y)\n",
      "C:\\ProgramData\\Anaconda3\\envs\\neuralnets\\lib\\site-packages\\sklearn\\base.py:462: DataConversionWarning: Data with input dtype int64, float64 were all converted to float64 by StandardScaler.\n",
      "  return self.fit(X, **fit_params).transform(X)\n"
     ]
    }
   ],
   "source": [
    "#6.Apply PCA for dimensionality reduction\n",
    "\n",
    "from sklearn.preprocessing import StandardScaler\n",
    "p_std=StandardScaler().fit_transform(p)\n",
    "q_std=StandardScaler().fit(q)"
   ]
  },
  {
   "cell_type": "code",
   "execution_count": 248,
   "metadata": {
    "collapsed": true
   },
   "outputs": [],
   "source": [
    "features=p_std.T"
   ]
  },
  {
   "cell_type": "code",
   "execution_count": 249,
   "metadata": {
    "collapsed": true
   },
   "outputs": [],
   "source": [
    "cov_matrix=np.cov(features)\n",
    "eig_values=np.linalg.eig(cov_matrix)[0]\n",
    "eig_vect=np.linalg.eig(cov_matrix)[1]\n"
   ]
  },
  {
   "cell_type": "code",
   "execution_count": 250,
   "metadata": {},
   "outputs": [
    {
     "data": {
      "text/plain": [
       "0.687797116227351"
      ]
     },
     "execution_count": 250,
     "metadata": {},
     "output_type": "execute_result"
    }
   ],
   "source": [
    "eig_values[0]/eig_values.sum()"
   ]
  },
  {
   "cell_type": "code",
   "execution_count": 251,
   "metadata": {
    "collapsed": true
   },
   "outputs": [],
   "source": [
    "proj_x=np.dot(p_std,eig_vect[:,0:2])"
   ]
  },
  {
   "cell_type": "code",
   "execution_count": 252,
   "metadata": {},
   "outputs": [
    {
     "data": {
      "text/plain": [
       "array([[ 2.76630605,  2.58121372],\n",
       "       [ 2.44612155,  1.33321261],\n",
       "       [ 2.17163514, -1.47086247],\n",
       "       ...,\n",
       "       [ 5.78651277, -1.74505236],\n",
       "       [ 5.57612094,  1.09477831],\n",
       "       [ 4.95144061, -1.68297552]])"
      ]
     },
     "execution_count": 252,
     "metadata": {},
     "output_type": "execute_result"
    }
   ],
   "source": [
    "proj_x"
   ]
  },
  {
   "cell_type": "code",
   "execution_count": 253,
   "metadata": {
    "collapsed": true
   },
   "outputs": [],
   "source": [
    "xa=[]\n",
    "ya=[]\n",
    "da=[]"
   ]
  },
  {
   "cell_type": "code",
   "execution_count": 254,
   "metadata": {
    "collapsed": true
   },
   "outputs": [],
   "source": [
    "#7.Apply PCA for 12,11,10,9,8,7,6,5 and plot the RMSE and R2\n",
    "\n",
    "from sklearn import decomposition\n",
    "pca=decomposition.PCA(n_components=12)\n",
    "p_12=pca.fit_transform(p_std)"
   ]
  },
  {
   "cell_type": "code",
   "execution_count": 255,
   "metadata": {
    "collapsed": true
   },
   "outputs": [],
   "source": [
    "p_train,p_test,q_train,q_test=train_test_split(p_12,q,test_size=0.2,random_state=0)"
   ]
  },
  {
   "cell_type": "code",
   "execution_count": 256,
   "metadata": {
    "collapsed": true
   },
   "outputs": [],
   "source": [
    "model.fit(p_train,q_train)\n",
    "q_pred=model.predict(p_test)"
   ]
  },
  {
   "cell_type": "code",
   "execution_count": 257,
   "metadata": {},
   "outputs": [
    {
     "name": "stdout",
     "output_type": "stream",
     "text": [
      "1.0   2.402824159730642e-15\n"
     ]
    }
   ],
   "source": [
    "mse=mean_squared_error(q_pred,q_test)\n",
    "rmse=np.sqrt(mse)\n",
    "r2=r2_score(q_pred,q_test)\n",
    "xa.append(12)\n",
    "ya.append(rmse)\n",
    "da.append(r2)\n",
    "print(r2,\" \",rmse)"
   ]
  },
  {
   "cell_type": "code",
   "execution_count": 274,
   "metadata": {},
   "outputs": [
    {
     "name": "stdout",
     "output_type": "stream",
     "text": [
      "0.999999999982184   1.721769956676678e-05\n"
     ]
    }
   ],
   "source": [
    "pca=decomposition.PCA(n_components=11)\n",
    "p_11=pca.fit_transform(p_std)\n",
    "p_train,p_test,q_train,q_test=train_test_split(p_11,q,test_size=0.2,random_state=0)\n",
    "model.fit(p_train,q_train)\n",
    "q_pred=model.predict(p_test)\n",
    "mse=mean_squared_error(q_pred,q_test)\n",
    "rmse=np.sqrt(mse)\n",
    "r2=r2_score(q_pred,q_test)\n",
    "xa.append(11)\n",
    "ya.append(rmse)\n",
    "da.append(r2)\n",
    "print(r2,\" \",rmse)"
   ]
  },
  {
   "cell_type": "code",
   "execution_count": 275,
   "metadata": {},
   "outputs": [
    {
     "data": {
      "text/plain": [
       "[1.0, 0.999999999982184]"
      ]
     },
     "execution_count": 275,
     "metadata": {},
     "output_type": "execute_result"
    }
   ],
   "source": [
    "da"
   ]
  },
  {
   "cell_type": "code",
   "execution_count": null,
   "metadata": {
    "collapsed": true
   },
   "outputs": [],
   "source": []
  },
  {
   "cell_type": "code",
   "execution_count": 276,
   "metadata": {},
   "outputs": [
    {
     "name": "stdout",
     "output_type": "stream",
     "text": [
      "0.9999999788239572   0.000593599953289781\n"
     ]
    }
   ],
   "source": [
    "pca=decomposition.PCA(n_components=10)\n",
    "p_10=pca.fit_transform(p_std)\n",
    "p_train,p_test,q_train,q_test=train_test_split(p_10,q,test_size=0.2,random_state=0)\n",
    "model.fit(p_train,q_train)\n",
    "q_pred=model.predict(p_test)\n",
    "mse=mean_squared_error(q_pred,q_test)\n",
    "rmse=np.sqrt(mse)\n",
    "r2=r2_score(q_pred,q_test)\n",
    "xa.append(10)\n",
    "ya.append(rmse)\n",
    "da.append(r2)\n",
    "print(r2,\" \",rmse)"
   ]
  },
  {
   "cell_type": "code",
   "execution_count": null,
   "metadata": {
    "collapsed": true
   },
   "outputs": [],
   "source": []
  },
  {
   "cell_type": "code",
   "execution_count": 277,
   "metadata": {},
   "outputs": [
    {
     "name": "stdout",
     "output_type": "stream",
     "text": [
      "0.9994790795072673   0.09310222308989216\n"
     ]
    }
   ],
   "source": [
    "pca=decomposition.PCA(n_components=9)\n",
    "p_9=pca.fit_transform(p_std)\n",
    "p_train,p_test,q_train,q_test=train_test_split(p_9,q,test_size=0.2,random_state=0)\n",
    "model.fit(p_train,q_train)\n",
    "q_pred=model.predict(p_test)\n",
    "mse=mean_squared_error(q_pred,q_test)\n",
    "rmse=np.sqrt(mse)\n",
    "r2=r2_score(q_pred,q_test)\n",
    "xa.append(9)\n",
    "ya.append(rmse)\n",
    "da.append(r2)\n",
    "print(r2,\" \",rmse)"
   ]
  },
  {
   "cell_type": "code",
   "execution_count": 278,
   "metadata": {},
   "outputs": [
    {
     "data": {
      "text/plain": [
       "[1.0, 0.999999999982184, 0.9999999788239572, 0.9994790795072673]"
      ]
     },
     "execution_count": 278,
     "metadata": {},
     "output_type": "execute_result"
    }
   ],
   "source": [
    "da"
   ]
  },
  {
   "cell_type": "code",
   "execution_count": null,
   "metadata": {
    "collapsed": true
   },
   "outputs": [],
   "source": []
  },
  {
   "cell_type": "code",
   "execution_count": 279,
   "metadata": {},
   "outputs": [
    {
     "name": "stdout",
     "output_type": "stream",
     "text": [
      "0.9994718801912054   0.09372954050288197\n"
     ]
    }
   ],
   "source": [
    "pca=decomposition.PCA(n_components=8)\n",
    "p_8=pca.fit_transform(p_std)\n",
    "p_train,p_test,q_train,q_test=train_test_split(p_8,q,test_size=0.2,random_state=0)\n",
    "model.fit(p_train,q_train)\n",
    "q_pred=model.predict(p_test)\n",
    "mse=mean_squared_error(q_pred,q_test)\n",
    "rmse=np.sqrt(mse)\n",
    "r2=r2_score(q_pred,q_test)\n",
    "xa.append(8)\n",
    "ya.append(rmse)\n",
    "da.append(r2)\n",
    "print(r2,\" \",rmse)"
   ]
  },
  {
   "cell_type": "code",
   "execution_count": null,
   "metadata": {
    "collapsed": true
   },
   "outputs": [],
   "source": []
  },
  {
   "cell_type": "code",
   "execution_count": 280,
   "metadata": {},
   "outputs": [
    {
     "name": "stdout",
     "output_type": "stream",
     "text": [
      "0.9929992383925976   0.3404664633225825\n"
     ]
    }
   ],
   "source": [
    "pca=decomposition.PCA(n_components=7)\n",
    "p_11=pca.fit_transform(p_std)\n",
    "p_train,p_test,q_train,q_test=train_test_split(p_11,q,test_size=0.2,random_state=0)\n",
    "model.fit(p_train,q_train)\n",
    "q_pred=model.predict(p_test)\n",
    "mse=mean_squared_error(q_pred,q_test)\n",
    "rmse=np.sqrt(mse)\n",
    "r2=r2_score(q_pred,q_test)\n",
    "xa.append(7)\n",
    "ya.append(rmse)\n",
    "da.append(r2)\n",
    "print(r2,\" \",rmse)"
   ]
  },
  {
   "cell_type": "code",
   "execution_count": null,
   "metadata": {
    "collapsed": true
   },
   "outputs": [],
   "source": []
  },
  {
   "cell_type": "code",
   "execution_count": 281,
   "metadata": {},
   "outputs": [
    {
     "name": "stdout",
     "output_type": "stream",
     "text": [
      "0.9928972079275155   0.3426299902840796\n"
     ]
    }
   ],
   "source": [
    "pca=decomposition.PCA(n_components=6)\n",
    "p_11=pca.fit_transform(p_std)\n",
    "p_train,p_test,q_train,q_test=train_test_split(p_11,q,test_size=0.2,random_state=0)\n",
    "model.fit(p_train,q_train)\n",
    "q_pred=model.predict(p_test)\n",
    "mse=mean_squared_error(q_pred,q_test)\n",
    "rmse=np.sqrt(mse)\n",
    "r2=r2_score(q_pred,q_test)\n",
    "xa.append(6)\n",
    "ya.append(rmse)\n",
    "da.append(r2)\n",
    "print(r2,\" \",rmse)"
   ]
  },
  {
   "cell_type": "code",
   "execution_count": null,
   "metadata": {
    "collapsed": true
   },
   "outputs": [],
   "source": []
  },
  {
   "cell_type": "code",
   "execution_count": 282,
   "metadata": {},
   "outputs": [
    {
     "name": "stdout",
     "output_type": "stream",
     "text": [
      "0.9867701928483679   0.46500956531628135\n"
     ]
    }
   ],
   "source": [
    "pca=decomposition.PCA(n_components=5)\n",
    "p_11=pca.fit_transform(p_std)\n",
    "p_train,p_test,q_train,q_test=train_test_split(p_11,q,test_size=0.2,random_state=0)\n",
    "model.fit(p_train,q_train)\n",
    "q_pred=model.predict(p_test)\n",
    "mse=mean_squared_error(q_pred,q_test)\n",
    "rmse=np.sqrt(mse)\n",
    "r2=r2_score(q_pred,q_test)\n",
    "xa.append(5)\n",
    "ya.append(rmse)\n",
    "da.append(r2)\n",
    "print(r2,\" \",rmse)"
   ]
  },
  {
   "cell_type": "code",
   "execution_count": 286,
   "metadata": {},
   "outputs": [
    {
     "data": {
      "text/plain": [
       "[1.0,\n",
       " 0.999999999982184,\n",
       " 0.9999999788239572,\n",
       " 0.9994790795072673,\n",
       " 0.9994718801912054,\n",
       " 0.9929992383925976,\n",
       " 0.9928972079275155,\n",
       " 0.9867701928483679]"
      ]
     },
     "execution_count": 286,
     "metadata": {},
     "output_type": "execute_result"
    }
   ],
   "source": [
    "xa=[12, 11, 10, 9, 8, 7, 6, 5]\n",
    "da"
   ]
  },
  {
   "cell_type": "code",
   "execution_count": 287,
   "metadata": {},
   "outputs": [
    {
     "data": {
      "text/plain": [
       "<matplotlib.collections.PathCollection at 0xbd431d0>"
      ]
     },
     "execution_count": 287,
     "metadata": {},
     "output_type": "execute_result"
    },
    {
     "data": {
      "image/png": "[encoded data removed]",
      "text/plain": [
       "<Figure size 432x288 with 1 Axes>"
      ]
     },
     "metadata": {
      "needs_background": "light"
     },
     "output_type": "display_data"
    }
   ],
   "source": [
    "plt.scatter(x=xa,y=da)"
   ]
  },
  {
   "cell_type": "code",
   "execution_count": 265,
   "metadata": {},
   "outputs": [
    {
     "data": {
      "text/plain": [
       "<matplotlib.collections.PathCollection at 0xbce7da0>"
      ]
     },
     "execution_count": 265,
     "metadata": {},
     "output_type": "execute_result"
    },
    {
     "data": {
      "image/png": "[encoded data removed]",
      "text/plain": [
       "<Figure size 432x288 with 1 Axes>"
      ]
     },
     "metadata": {
      "needs_background": "light"
     },
     "output_type": "display_data"
    }
   ],
   "source": [
    "plt.scatter(x=xa,y=ya)"
   ]
  },
  {
   "cell_type": "code",
   "execution_count": 266,
   "metadata": {
    "collapsed": true
   },
   "outputs": [],
   "source": [
    "m=df.iloc[:,[1,2,3,4,6,7,8,9,10,11,12,13,14,15]]\n",
    "n=df.iloc[:,5:6]\n",
    "m=m.ffill()\n",
    "n=n.ffill()"
   ]
  },
  {
   "cell_type": "code",
   "execution_count": 267,
   "metadata": {},
   "outputs": [
    {
     "data": {
      "text/html": [
       "<div>\n",
       "<style scoped>\n",
       "    .dataframe tbody tr th:only-of-type {\n",
       "        vertical-align: middle;\n",
       "    }\n",
       "\n",
       "    .dataframe tbody tr th {\n",
       "        vertical-align: top;\n",
       "    }\n",
       "\n",
       "    .dataframe thead th {\n",
       "        text-align: right;\n",
       "    }\n",
       "</style>\n",
       "<table border=\"1\" class=\"dataframe\">\n",
       "  <thead>\n",
       "    <tr style=\"text-align: right;\">\n",
       "      <th></th>\n",
       "      <th>T_degC</th>\n",
       "      <th>Salnty</th>\n",
       "      <th>STheta</th>\n",
       "      <th>RecInd</th>\n",
       "      <th>S_prec</th>\n",
       "      <th>DarkAq</th>\n",
       "      <th>MeanAq</th>\n",
       "      <th>R_Depth</th>\n",
       "      <th>R_POTEMP</th>\n",
       "      <th>R_SALINITY</th>\n",
       "      <th>R_SIGMA</th>\n",
       "      <th>R_SVA</th>\n",
       "      <th>R_DYNHT</th>\n",
       "      <th>R_PRES</th>\n",
       "    </tr>\n",
       "  </thead>\n",
       "  <tbody>\n",
       "    <tr>\n",
       "      <th>0</th>\n",
       "      <td>10.50</td>\n",
       "      <td>33.440</td>\n",
       "      <td>25.649</td>\n",
       "      <td>3</td>\n",
       "      <td>2.0</td>\n",
       "      <td>9</td>\n",
       "      <td>9</td>\n",
       "      <td>0</td>\n",
       "      <td>10.50</td>\n",
       "      <td>33.440</td>\n",
       "      <td>25.64</td>\n",
       "      <td>233.0</td>\n",
       "      <td>0.00</td>\n",
       "      <td>0</td>\n",
       "    </tr>\n",
       "    <tr>\n",
       "      <th>1</th>\n",
       "      <td>10.46</td>\n",
       "      <td>33.440</td>\n",
       "      <td>25.656</td>\n",
       "      <td>3</td>\n",
       "      <td>2.0</td>\n",
       "      <td>9</td>\n",
       "      <td>9</td>\n",
       "      <td>8</td>\n",
       "      <td>10.46</td>\n",
       "      <td>33.440</td>\n",
       "      <td>25.65</td>\n",
       "      <td>232.5</td>\n",
       "      <td>0.01</td>\n",
       "      <td>8</td>\n",
       "    </tr>\n",
       "    <tr>\n",
       "      <th>2</th>\n",
       "      <td>10.46</td>\n",
       "      <td>33.437</td>\n",
       "      <td>25.654</td>\n",
       "      <td>7</td>\n",
       "      <td>3.0</td>\n",
       "      <td>9</td>\n",
       "      <td>9</td>\n",
       "      <td>10</td>\n",
       "      <td>10.46</td>\n",
       "      <td>33.437</td>\n",
       "      <td>25.65</td>\n",
       "      <td>232.8</td>\n",
       "      <td>0.02</td>\n",
       "      <td>10</td>\n",
       "    </tr>\n",
       "    <tr>\n",
       "      <th>3</th>\n",
       "      <td>10.45</td>\n",
       "      <td>33.420</td>\n",
       "      <td>25.643</td>\n",
       "      <td>3</td>\n",
       "      <td>2.0</td>\n",
       "      <td>9</td>\n",
       "      <td>9</td>\n",
       "      <td>19</td>\n",
       "      <td>10.45</td>\n",
       "      <td>33.420</td>\n",
       "      <td>25.64</td>\n",
       "      <td>234.1</td>\n",
       "      <td>0.04</td>\n",
       "      <td>19</td>\n",
       "    </tr>\n",
       "    <tr>\n",
       "      <th>4</th>\n",
       "      <td>10.45</td>\n",
       "      <td>33.421</td>\n",
       "      <td>25.643</td>\n",
       "      <td>7</td>\n",
       "      <td>3.0</td>\n",
       "      <td>9</td>\n",
       "      <td>9</td>\n",
       "      <td>20</td>\n",
       "      <td>10.45</td>\n",
       "      <td>33.421</td>\n",
       "      <td>25.64</td>\n",
       "      <td>234.0</td>\n",
       "      <td>0.04</td>\n",
       "      <td>20</td>\n",
       "    </tr>\n",
       "  </tbody>\n",
       "</table>\n",
       "</div>"
      ],
      "text/plain": [
       "   T_degC  Salnty  STheta  RecInd  S_prec  DarkAq  MeanAq  R_Depth  R_POTEMP  \\\n",
       "0   10.50  33.440  25.649       3     2.0       9       9        0     10.50   \n",
       "1   10.46  33.440  25.656       3     2.0       9       9        8     10.46   \n",
       "2   10.46  33.437  25.654       7     3.0       9       9       10     10.46   \n",
       "3   10.45  33.420  25.643       3     2.0       9       9       19     10.45   \n",
       "4   10.45  33.421  25.643       7     3.0       9       9       20     10.45   \n",
       "\n",
       "   R_SALINITY  R_SIGMA  R_SVA  R_DYNHT  R_PRES  \n",
       "0      33.440    25.64  233.0     0.00       0  \n",
       "1      33.440    25.65  232.5     0.01       8  \n",
       "2      33.437    25.65  232.8     0.02      10  \n",
       "3      33.420    25.64  234.1     0.04      19  \n",
       "4      33.421    25.64  234.0     0.04      20  "
      ]
     },
     "execution_count": 267,
     "metadata": {},
     "output_type": "execute_result"
    }
   ],
   "source": [
    "m.head()"
   ]
  },
  {
   "cell_type": "code",
   "execution_count": 268,
   "metadata": {},
   "outputs": [
    {
     "data": {
      "text/html": [
       "<div>\n",
       "<style scoped>\n",
       "    .dataframe tbody tr th:only-of-type {\n",
       "        vertical-align: middle;\n",
       "    }\n",
       "\n",
       "    .dataframe tbody tr th {\n",
       "        vertical-align: top;\n",
       "    }\n",
       "\n",
       "    .dataframe thead th {\n",
       "        text-align: right;\n",
       "    }\n",
       "</style>\n",
       "<table border=\"1\" class=\"dataframe\">\n",
       "  <thead>\n",
       "    <tr style=\"text-align: right;\">\n",
       "      <th></th>\n",
       "      <th>T_prec</th>\n",
       "    </tr>\n",
       "  </thead>\n",
       "  <tbody>\n",
       "    <tr>\n",
       "      <th>0</th>\n",
       "      <td>1.0</td>\n",
       "    </tr>\n",
       "    <tr>\n",
       "      <th>1</th>\n",
       "      <td>2.0</td>\n",
       "    </tr>\n",
       "    <tr>\n",
       "      <th>2</th>\n",
       "      <td>2.0</td>\n",
       "    </tr>\n",
       "    <tr>\n",
       "      <th>3</th>\n",
       "      <td>2.0</td>\n",
       "    </tr>\n",
       "    <tr>\n",
       "      <th>4</th>\n",
       "      <td>2.0</td>\n",
       "    </tr>\n",
       "  </tbody>\n",
       "</table>\n",
       "</div>"
      ],
      "text/plain": [
       "   T_prec\n",
       "0     1.0\n",
       "1     2.0\n",
       "2     2.0\n",
       "3     2.0\n",
       "4     2.0"
      ]
     },
     "execution_count": 268,
     "metadata": {},
     "output_type": "execute_result"
    }
   ],
   "source": [
    "n.head()"
   ]
  },
  {
   "cell_type": "code",
   "execution_count": 269,
   "metadata": {
    "collapsed": true
   },
   "outputs": [],
   "source": [
    "m_train,m_test,n_train,n_test=train_test_split(m,n,test_size=0.2,random_state=0)"
   ]
  },
  {
   "cell_type": "code",
   "execution_count": 270,
   "metadata": {},
   "outputs": [
    {
     "name": "stderr",
     "output_type": "stream",
     "text": [
      "C:\\ProgramData\\Anaconda3\\envs\\neuralnets\\lib\\site-packages\\sklearn\\linear_model\\logistic.py:433: FutureWarning: Default solver will be changed to 'lbfgs' in 0.22. Specify a solver to silence this warning.\n",
      "  FutureWarning)\n",
      "C:\\ProgramData\\Anaconda3\\envs\\neuralnets\\lib\\site-packages\\sklearn\\utils\\validation.py:761: DataConversionWarning: A column-vector y was passed when a 1d array was expected. Please change the shape of y to (n_samples, ), for example using ravel().\n",
      "  y = column_or_1d(y, warn=True)\n",
      "C:\\ProgramData\\Anaconda3\\envs\\neuralnets\\lib\\site-packages\\sklearn\\linear_model\\logistic.py:460: FutureWarning: Default multi_class will be changed to 'auto' in 0.22. Specify the multi_class option to silence this warning.\n",
      "  \"this warning.\", FutureWarning)\n"
     ]
    }
   ],
   "source": [
    "from sklearn.linear_model import LogisticRegression\n",
    "model1=LogisticRegression()\n",
    "model1.fit(m_train,n_train)\n",
    "n_pred=model1.predict(m_test)"
   ]
  },
  {
   "cell_type": "code",
   "execution_count": 271,
   "metadata": {},
   "outputs": [
    {
     "name": "stdout",
     "output_type": "stream",
     "text": [
      "[[   0   29    0]\n",
      " [   0 2309    0]\n",
      " [   0   10    0]]\n"
     ]
    }
   ],
   "source": [
    "print(confusion_matrix(n_test,n_pred))"
   ]
  },
  {
   "cell_type": "code",
   "execution_count": 272,
   "metadata": {},
   "outputs": [
    {
     "name": "stdout",
     "output_type": "stream",
     "text": [
      "0.9833901192504259\n"
     ]
    }
   ],
   "source": [
    "print(accuracy_score(n_test,n_pred))"
   ]
  },
  {
   "cell_type": "code",
   "execution_count": null,
   "metadata": {
    "collapsed": true
   },
   "outputs": [],
   "source": []
  },
  {
   "cell_type": "code",
   "execution_count": null,
   "metadata": {
    "collapsed": true
   },
   "outputs": [],
   "source": []
  },
  {
   "cell_type": "code",
   "execution_count": null,
   "metadata": {
    "collapsed": true
   },
   "outputs": [],
   "source": []
  },
  {
   "cell_type": "code",
   "execution_count": null,
   "metadata": {
    "collapsed": true
   },
   "outputs": [],
   "source": []
  },
  {
   "cell_type": "code",
   "execution_count": null,
   "metadata": {
    "collapsed": true
   },
   "outputs": [],
   "source": []
  },
  {
   "cell_type": "code",
   "execution_count": null,
   "metadata": {
    "collapsed": true
   },
   "outputs": [],
   "source": []
  }
 ],
 "metadata": {
  "kernelspec": {
   "display_name": "Python 3",
   "language": "python",
   "name": "python3"
  },
  "language_info": {
   "codemirror_mode": {
    "name": "ipython",
    "version": 3
   },
   "file_extension": ".py",
   "mimetype": "text/x-python",
   "name": "python",
   "nbconvert_exporter": "python",
   "pygments_lexer": "ipython3",
   "version": "3.6.3"
  }
 },
 "nbformat": 4,
 "nbformat_minor": 2
}
