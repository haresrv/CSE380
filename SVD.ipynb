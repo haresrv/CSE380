{
  "nbformat": 4,
  "nbformat_minor": 0,
  "metadata": {
    "colab": {
      "name": "SVD.ipynb",
      "provenance": []
    },
    "kernelspec": {
      "name": "python3",
      "display_name": "Python 3"
    }
  },
  "cells": [
    {
      "cell_type": "code",
      "metadata": {
        "id": "6nHRyLUiGGya",
        "colab_type": "code",
        "colab": {}
      },
      "source": [
        ""
      ],
      "execution_count": 0,
      "outputs": []
    },
    {
      "cell_type": "markdown",
      "metadata": {
        "id": "QOjWRgb7GMAm",
        "colab_type": "text"
      },
      "source": [
        "**Computing the SVD**"
      ]
    },
    {
      "cell_type": "code",
      "metadata": {
        "id": "SIbcHjlGGODy",
        "colab_type": "code",
        "colab": {}
      },
      "source": [
        "import numpy as np\n",
        "import numpy.linalg as la"
      ],
      "execution_count": 0,
      "outputs": []
    },
    {
      "cell_type": "code",
      "metadata": {
        "id": "pd6OSRSaGRB6",
        "colab_type": "code",
        "colab": {}
      },
      "source": [
        "np.random.seed(15)\n",
        "n = 5\n",
        "A = np.random.randn(n, n)"
      ],
      "execution_count": 0,
      "outputs": []
    },
    {
      "cell_type": "markdown",
      "metadata": {
        "id": "u-NidJ79GYEy",
        "colab_type": "text"
      },
      "source": [
        "Now compute the eigenvalues and eigenvectors of ATA as eigvals and eigvecs using la.eig or la.eigh (symmetric):"
      ]
    },
    {
      "cell_type": "code",
      "metadata": {
        "id": "y9VBaog0GUoN",
        "colab_type": "code",
        "colab": {}
      },
      "source": [
        "eigvals, eigvecs = la.eigh(A.T.dot(A))"
      ],
      "execution_count": 0,
      "outputs": []
    },
    {
      "cell_type": "code",
      "metadata": {
        "id": "vdYEEEcOGcsw",
        "colab_type": "code",
        "colab": {
          "base_uri": "https://localhost:8080/",
          "height": 35
        },
        "outputId": "74e683cf-6124-4727-9070-fdfde2bc4299"
      },
      "source": [
        "\n",
        "\n",
        "eigvals\n",
        "\n"
      ],
      "execution_count": 4,
      "outputs": [
        {
          "output_type": "execute_result",
          "data": {
            "text/plain": [
              "array([0.08637178, 0.457892  , 2.04177547, 2.34383161, 8.37000184])"
            ]
          },
          "metadata": {
            "tags": []
          },
          "execution_count": 4
        }
      ]
    },
    {
      "cell_type": "markdown",
      "metadata": {
        "id": "I1Vw7P4sGkDc",
        "colab_type": "text"
      },
      "source": [
        "Eigenvalues are real and positive. Coincidence?"
      ]
    },
    {
      "cell_type": "code",
      "metadata": {
        "id": "BsPKLZd-Gf-B",
        "colab_type": "code",
        "colab": {
          "base_uri": "https://localhost:8080/",
          "height": 35
        },
        "outputId": "20f73439-48e7-492f-c719-089858c74384"
      },
      "source": [
        "eigvecs.shape"
      ],
      "execution_count": 5,
      "outputs": [
        {
          "output_type": "execute_result",
          "data": {
            "text/plain": [
              "(5, 5)"
            ]
          },
          "metadata": {
            "tags": []
          },
          "execution_count": 5
        }
      ]
    },
    {
      "cell_type": "markdown",
      "metadata": {
        "id": "O5TNTDclGsjF",
        "colab_type": "text"
      },
      "source": [
        "Check that those are in fact eigenvectors and eigenvalues:"
      ]
    },
    {
      "cell_type": "code",
      "metadata": {
        "id": "-w8X7CXNGpHd",
        "colab_type": "code",
        "colab": {
          "base_uri": "https://localhost:8080/",
          "height": 202
        },
        "outputId": "e1ed1689-e5f7-4f00-eceb-9c36780a94fb"
      },
      "source": [
        "B = A.T.dot(A)\n",
        "B - eigvecs.dot(np.diag(eigvals)).dot(la.inv(eigvecs))"
      ],
      "execution_count": 6,
      "outputs": [
        {
          "output_type": "execute_result",
          "data": {
            "text/plain": [
              "array([[ 1.77635684e-15,  2.22044605e-15,  3.10862447e-15,\n",
              "         8.88178420e-16,  8.88178420e-16],\n",
              "       [ 2.22044605e-16, -8.88178420e-16,  0.00000000e+00,\n",
              "        -8.88178420e-16,  2.63677968e-16],\n",
              "       [-8.88178420e-16,  4.44089210e-16,  8.88178420e-16,\n",
              "        -2.22044605e-16,  6.66133815e-16],\n",
              "       [ 0.00000000e+00, -4.44089210e-16,  8.88178420e-16,\n",
              "         0.00000000e+00,  7.77156117e-16],\n",
              "       [ 0.00000000e+00, -9.02056208e-17,  3.88578059e-16,\n",
              "         0.00000000e+00,  3.33066907e-16]])"
            ]
          },
          "metadata": {
            "tags": []
          },
          "execution_count": 6
        }
      ]
    },
    {
      "cell_type": "markdown",
      "metadata": {
        "id": "rARIWUaCG3SO",
        "colab_type": "text"
      },
      "source": [
        "\n",
        "\n",
        "eigvecs are orthonormal! (Why?)\n",
        "\n",
        "Check:\n"
      ]
    },
    {
      "cell_type": "code",
      "metadata": {
        "id": "vZgGHynfGyVd",
        "colab_type": "code",
        "colab": {
          "base_uri": "https://localhost:8080/",
          "height": 202
        },
        "outputId": "bfe8cca9-32e4-41b2-9681-654ce8c0acda"
      },
      "source": [
        "eigvecs.T.dot(eigvecs) - np.eye(n)"
      ],
      "execution_count": 7,
      "outputs": [
        {
          "output_type": "execute_result",
          "data": {
            "text/plain": [
              "array([[ 8.88178420e-16,  4.03771460e-16,  6.85129908e-18,\n",
              "        -1.93447007e-16, -2.91627008e-16],\n",
              "       [ 4.03771460e-16,  1.11022302e-15,  1.52478038e-16,\n",
              "        -2.34536220e-16,  4.40813029e-16],\n",
              "       [ 6.85129908e-18,  1.52478038e-16,  8.88178420e-16,\n",
              "         8.31196341e-17,  1.06121530e-16],\n",
              "       [-1.93447007e-16, -2.34536220e-16,  8.31196341e-17,\n",
              "         4.44089210e-16,  1.18684501e-16],\n",
              "       [-2.91627008e-16,  4.40813029e-16,  1.06121530e-16,\n",
              "         1.18684501e-16,  4.44089210e-16]])"
            ]
          },
          "metadata": {
            "tags": []
          },
          "execution_count": 7
        }
      ]
    },
    {
      "cell_type": "markdown",
      "metadata": {
        "id": "uZsW_RK2HHe7",
        "colab_type": "text"
      },
      "source": [
        "SVD"
      ]
    },
    {
      "cell_type": "code",
      "metadata": {
        "id": "ZlVz0Nl5G99H",
        "colab_type": "code",
        "colab": {
          "base_uri": "https://localhost:8080/",
          "height": 109
        },
        "outputId": "4d2b592f-466f-479c-fc0c-c3159979c43e"
      },
      "source": [
        "Sigma = np.diag(np.sqrt(eigvals))\n",
        "Sigma"
      ],
      "execution_count": 15,
      "outputs": [
        {
          "output_type": "execute_result",
          "data": {
            "text/plain": [
              "array([[0.29389076, 0.        , 0.        , 0.        , 0.        ],\n",
              "       [0.        , 0.67667718, 0.        , 0.        , 0.        ],\n",
              "       [0.        , 0.        , 1.42890709, 0.        , 0.        ],\n",
              "       [0.        , 0.        , 0.        , 1.53095774, 0.        ],\n",
              "       [0.        , 0.        , 0.        , 0.        , 2.89309555]])"
            ]
          },
          "metadata": {
            "tags": []
          },
          "execution_count": 15
        }
      ]
    },
    {
      "cell_type": "code",
      "metadata": {
        "id": "3KrNNAktHLbK",
        "colab_type": "code",
        "colab": {
          "base_uri": "https://localhost:8080/",
          "height": 109
        },
        "outputId": "f8ee97e1-e577-4d1c-9e68-ccfff758866b"
      },
      "source": [
        "V = eigvecs\n",
        "V"
      ],
      "execution_count": 16,
      "outputs": [
        {
          "output_type": "execute_result",
          "data": {
            "text/plain": [
              "array([[-0.42314866,  0.45307384,  0.38523275,  0.34286421, -0.59136213],\n",
              "       [ 0.06927091, -0.54923835,  0.58840207, -0.46788522, -0.35833672],\n",
              "       [ 0.10690407, -0.42673885, -0.58303925,  0.26551486, -0.62931118],\n",
              "       [ 0.32181016,  0.54466815, -0.25369587, -0.64225211, -0.35060727],\n",
              "       [ 0.83735088,  0.11954869,  0.31793453,  0.42490192, -0.0541074 ]])"
            ]
          },
          "metadata": {
            "tags": []
          },
          "execution_count": 16
        }
      ]
    },
    {
      "cell_type": "code",
      "metadata": {
        "id": "7JNPqxAoHOhI",
        "colab_type": "code",
        "colab": {}
      },
      "source": [
        "U = A.dot(V).dot(la.inv(Sigma))\n",
        "U"
      ],
      "execution_count": 0,
      "outputs": []
    },
    {
      "cell_type": "code",
      "metadata": {
        "id": "Bq22M31ZMOwX",
        "colab_type": "code",
        "colab": {}
      },
      "source": [
        "# coding: utf-8 # # Computing the SVD # In[7]: import numpy as np import numpy.linalg as la # In[25]: np.random.seed(15) n = 5 A = np.random.randn(n, n) # Now compute the eigenvalues and eigenvectors of $A^TA$ as `eigvals` and `eigvecs` using `la.eig` or `la.eigh` (symmetric): # In[26]: eigvals, eigvecs = la.eigh(A.T.dot(A)) # In[27]: eigvals # Eigenvalues are real and positive. Coincidence? # In[28]: eigvecs.shape # Check that those are in fact eigenvectors and eigenvalues: # In[29]: B = A.T.dot(A) B - eigvecs.dot(np.diag(eigvals)).dot(la.inv(eigvecs)) # `eigvecs` are orthonormal! (Why?) # # Check: # In[30]: eigvecs.T.dot(eigvecs) - np.eye(n) # ------ # Now piece together the SVD: # In[19]: Sigma = np.diag(np.sqrt(eigvals)) # In[20]: V = eigvecs # In[38]: U = A.dot(V).dot(la.inv(Sigma)) # Check orthogonality of `U`: # In[39]: U.dot(U.T) - np.eye(n) "
      ],
      "execution_count": 0,
      "outputs": []
    },
    {
      "cell_type": "code",
      "metadata": {
        "id": "Y1xqcjdWKjRr",
        "colab_type": "code",
        "colab": {
          "base_uri": "https://localhost:8080/",
          "height": 424
        },
        "outputId": "41a14d01-2839-4e3e-ceef-85174c6bb365"
      },
      "source": [
        "from numpy import array\n",
        "from numpy import diag\n",
        "from numpy import zeros\n",
        "from scipy.linalg import svd\n",
        "# define a matrix\n",
        "A = array([\n",
        "\t[1,2,3,4,5,6,7,8,9,10],\n",
        "\t[11,12,13,14,15,16,17,18,19,20],\n",
        "\t[21,22,23,24,25,26,27,28,29,30]])\n",
        "print(A)\n",
        "# Singular-value decomposition\n",
        "U, s, VT = svd(A)\n",
        "# create m x n Sigma matrix\n",
        "Sigma = zeros((A.shape[0], A.shape[1]))\n",
        "# populate Sigma with n x n diagonal matrix\n",
        "Sigma[:A.shape[0], :A.shape[0]] = diag(s)\n",
        "# select\n",
        "n_elements = 2\n",
        "Sigma = Sigma[:, :n_elements]\n",
        "VT = VT[:n_elements, :]\n",
        "# reconstruct\n",
        "print(U)\n",
        "print(Sigma)\n",
        "print(VT)\n",
        "B = U.dot(Sigma.dot(VT))\n",
        "print(B)\n",
        "# transform\n",
        "T = U.dot(Sigma)\n",
        "print(T)\n",
        "T = A.dot(VT.T)\n",
        "print(T)"
      ],
      "execution_count": 25,
      "outputs": [
        {
          "output_type": "stream",
          "text": [
            "[[ 1  2  3  4  5  6  7  8  9 10]\n",
            " [11 12 13 14 15 16 17 18 19 20]\n",
            " [21 22 23 24 25 26 27 28 29 30]]\n",
            "[[-0.19101157  0.89266338  0.40824829]\n",
            " [-0.51371859  0.26348917 -0.81649658]\n",
            " [-0.8364256  -0.36568503  0.40824829]]\n",
            "[[96.96573419  0.        ]\n",
            " [ 0.          7.25578339]\n",
            " [ 0.          0.        ]]\n",
            "[[-0.24139304 -0.25728686 -0.27318068 -0.2890745  -0.30496832 -0.32086214\n",
            "  -0.33675595 -0.35264977 -0.36854359 -0.38443741]\n",
            " [-0.53589546 -0.42695236 -0.31800926 -0.20906617 -0.10012307  0.00882003\n",
            "   0.11776313  0.22670623  0.33564933  0.44459242]]\n",
            "[[ 1.  2.  3.  4.  5.  6.  7.  8.  9. 10.]\n",
            " [11. 12. 13. 14. 15. 16. 17. 18. 19. 20.]\n",
            " [21. 22. 23. 24. 25. 26. 27. 28. 29. 30.]]\n",
            "[[-18.52157747   6.47697214]\n",
            " [-49.81310011   1.91182038]\n",
            " [-81.10462276  -2.65333138]]\n",
            "[[-18.52157747   6.47697214]\n",
            " [-49.81310011   1.91182038]\n",
            " [-81.10462276  -2.65333138]]\n"
          ],
          "name": "stdout"
        }
      ]
    },
    {
      "cell_type": "markdown",
      "metadata": {
        "id": "MoTDOJ08KVfG",
        "colab_type": "text"
      },
      "source": [
        "SVD for Pseudoinverse\n",
        "\n",
        "The pseudoinverse is the generalization of the matrix inverse for square matrices to rectangular matrices where the number of rows and columns are not equal.\n",
        "\n",
        "It is also called the the Moore-Penrose Inverse after two independent discoverers of the method or the Generalized Inverse.\n",
        "\n",
        "    Matrix inversion is not defined for matrices that are not square. […] When A has more columns than rows, then solving a linear equation using the pseudoinverse provides one of the many possible solutions."
      ]
    },
    {
      "cell_type": "markdown",
      "metadata": {
        "id": "9YL6kfG4HVer",
        "colab_type": "text"
      },
      "source": [
        "Check orthogonality of U:\n"
      ]
    },
    {
      "cell_type": "code",
      "metadata": {
        "id": "l1Wb47HaHQ8Q",
        "colab_type": "code",
        "colab": {
          "base_uri": "https://localhost:8080/",
          "height": 202
        },
        "outputId": "685b4814-f219-404d-acfa-fb3157ec9dad"
      },
      "source": [
        "U.dot(U.T) - np.eye(n)"
      ],
      "execution_count": 11,
      "outputs": [
        {
          "output_type": "execute_result",
          "data": {
            "text/plain": [
              "array([[-1.11022302e-15, -7.67324533e-16, -6.67804308e-16,\n",
              "         1.47963782e-15,  1.44717415e-16],\n",
              "       [-7.67324533e-16,  6.66133815e-16, -5.43672425e-16,\n",
              "         6.51481016e-16, -2.64998805e-16],\n",
              "       [-6.67804308e-16, -5.43672425e-16,  2.66453526e-15,\n",
              "        -1.42306617e-15,  1.55464267e-15],\n",
              "       [ 1.47963782e-15,  6.51481016e-16, -1.42306617e-15,\n",
              "         3.10862447e-15, -1.13201575e-15],\n",
              "       [ 1.44717415e-16, -2.64998805e-16,  1.55464267e-15,\n",
              "        -1.13201575e-15,  4.44089210e-16]])"
            ]
          },
          "metadata": {
            "tags": []
          },
          "execution_count": 11
        }
      ]
    },
    {
      "cell_type": "markdown",
      "metadata": {
        "id": "dQlNKZ7qHmp_",
        "colab_type": "text"
      },
      "source": [
        "np.eye gives Return a 2-D array with ones on the diagonal and zeros elsewhere."
      ]
    },
    {
      "cell_type": "code",
      "metadata": {
        "id": "YNz7JN4zHaBF",
        "colab_type": "code",
        "colab": {
          "base_uri": "https://localhost:8080/",
          "height": 54
        },
        "outputId": "07e16727-744e-4ed5-a5de-a75d9be72630"
      },
      "source": [
        "np.eye(2, dtype=int)"
      ],
      "execution_count": 12,
      "outputs": [
        {
          "output_type": "execute_result",
          "data": {
            "text/plain": [
              "array([[1, 0],\n",
              "       [0, 1]])"
            ]
          },
          "metadata": {
            "tags": []
          },
          "execution_count": 12
        }
      ]
    },
    {
      "cell_type": "code",
      "metadata": {
        "id": "2xgZe5BiHxjJ",
        "colab_type": "code",
        "colab": {
          "base_uri": "https://localhost:8080/",
          "height": 72
        },
        "outputId": "75bac9e1-9659-4cea-c988-e19ce8457fad"
      },
      "source": [
        "np.eye(3, k=1)"
      ],
      "execution_count": 13,
      "outputs": [
        {
          "output_type": "execute_result",
          "data": {
            "text/plain": [
              "array([[0., 1., 0.],\n",
              "       [0., 0., 1.],\n",
              "       [0., 0., 0.]])"
            ]
          },
          "metadata": {
            "tags": []
          },
          "execution_count": 13
        }
      ]
    },
    {
      "cell_type": "markdown",
      "metadata": {
        "id": "Wx-f5wCrIbWy",
        "colab_type": "text"
      },
      "source": [
        "Using SVD function"
      ]
    },
    {
      "cell_type": "code",
      "metadata": {
        "id": "oq7R171WH3IG",
        "colab_type": "code",
        "colab": {
          "base_uri": "https://localhost:8080/",
          "height": 183
        },
        "outputId": "b777b940-8b2e-4d63-a68a-921b886e05d2"
      },
      "source": [
        "# Singular-value decomposition\n",
        "from numpy import array\n",
        "from scipy.linalg import svd\n",
        "# define a matrix\n",
        "A = array([[1, 2], [3, 4], [5, 6]])\n",
        "print(A)\n",
        "# SVD\n",
        "U, s, VT = svd(A)\n",
        "print(U)\n",
        "print(s)\n",
        "print(VT)"
      ],
      "execution_count": 14,
      "outputs": [
        {
          "output_type": "stream",
          "text": [
            "[[1 2]\n",
            " [3 4]\n",
            " [5 6]]\n",
            "[[-0.2298477   0.88346102  0.40824829]\n",
            " [-0.52474482  0.24078249 -0.81649658]\n",
            " [-0.81964194 -0.40189603  0.40824829]]\n",
            "[9.52551809 0.51430058]\n",
            "[[-0.61962948 -0.78489445]\n",
            " [-0.78489445  0.61962948]]\n"
          ],
          "name": "stdout"
        }
      ]
    },
    {
      "cell_type": "code",
      "metadata": {
        "id": "kYpAX8a9IXM2",
        "colab_type": "code",
        "colab": {
          "base_uri": "https://localhost:8080/",
          "height": 183
        },
        "outputId": "cdfc2d07-a42a-408a-f452-210a337f32f9"
      },
      "source": [
        "# Singular-value decomposition\n",
        "from numpy import array\n",
        "from scipy.linalg import svd\n",
        "# define a matrix\n",
        "A = array([[1, 2], [3, 4], [5, 6]])\n",
        "print(A)\n",
        "# SVD\n",
        "U, s, VT = svd(A)\n",
        "print(U)\n",
        "print(s)\n",
        "print(VT)"
      ],
      "execution_count": 19,
      "outputs": [
        {
          "output_type": "stream",
          "text": [
            "[[1 2]\n",
            " [3 4]\n",
            " [5 6]]\n",
            "[[-0.2298477   0.88346102  0.40824829]\n",
            " [-0.52474482  0.24078249 -0.81649658]\n",
            " [-0.81964194 -0.40189603  0.40824829]]\n",
            "[9.52551809 0.51430058]\n",
            "[[-0.61962948 -0.78489445]\n",
            " [-0.78489445  0.61962948]]\n"
          ],
          "name": "stdout"
        }
      ]
    }
  ]
}