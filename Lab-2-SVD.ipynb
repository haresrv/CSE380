{
 "cells": [
  {
   "cell_type": "code",
   "execution_count": 0,
   "metadata": {
    "colab": {},
    "colab_type": "code",
    "collapsed": true,
    "id": "6nHRyLUiGGya"
   },
   "outputs": [],
   "source": []
  },
  {
   "cell_type": "markdown",
   "metadata": {
    "colab_type": "text",
    "id": "QOjWRgb7GMAm"
   },
   "source": [
    "**Computing the SVD**"
   ]
  },
  {
   "cell_type": "code",
   "execution_count": 3,
   "metadata": {
    "colab": {},
    "colab_type": "code",
    "collapsed": true,
    "id": "SIbcHjlGGODy"
   },
   "outputs": [],
   "source": [
    "import numpy as np\n",
    "import numpy.linalg as la"
   ]
  },
  {
   "cell_type": "code",
   "execution_count": 4,
   "metadata": {
    "colab": {},
    "colab_type": "code",
    "collapsed": true,
    "id": "pd6OSRSaGRB6"
   },
   "outputs": [],
   "source": [
    "np.random.seed(15)\n",
    "n = 5\n",
    "A = np.random.randn(n, n)"
   ]
  },
  {
   "cell_type": "markdown",
   "metadata": {
    "colab_type": "text",
    "id": "u-NidJ79GYEy"
   },
   "source": [
    "Now compute the eigenvalues and eigenvectors of ATA as eigvals and eigvecs using la.eig or la.eigh (symmetric):"
   ]
  },
  {
   "cell_type": "code",
   "execution_count": 5,
   "metadata": {
    "colab": {},
    "colab_type": "code",
    "collapsed": true,
    "id": "y9VBaog0GUoN"
   },
   "outputs": [],
   "source": [
    "eigvals, eigvecs = la.eigh(A.T.dot(A))"
   ]
  },
  {
   "cell_type": "code",
   "execution_count": 8,
   "metadata": {
    "colab": {
     "base_uri": "https://localhost:8080/",
     "height": 35
    },
    "colab_type": "code",
    "id": "vdYEEEcOGcsw",
    "outputId": "74e683cf-6124-4727-9070-fdfde2bc4299"
   },
   "outputs": [
    {
     "data": {
      "text/plain": [
       "array([ 0.08637178,  0.457892  ,  2.04177547,  2.34383161,  8.37000184])"
      ]
     },
     "execution_count": 8,
     "metadata": {},
     "output_type": "execute_result"
    }
   ],
   "source": [
    "\n",
    "\n",
    "eigvals\n",
    "\n"
   ]
  },
  {
   "cell_type": "markdown",
   "metadata": {
    "colab_type": "text",
    "id": "I1Vw7P4sGkDc"
   },
   "source": [
    "Eigenvalues are real and positive. Coincidence?"
   ]
  },
  {
   "cell_type": "code",
   "execution_count": 7,
   "metadata": {
    "colab": {
     "base_uri": "https://localhost:8080/",
     "height": 35
    },
    "colab_type": "code",
    "id": "BsPKLZd-Gf-B",
    "outputId": "20f73439-48e7-492f-c719-089858c74384"
   },
   "outputs": [
    {
     "data": {
      "text/plain": [
       "array([[-0.42314866,  0.45307384,  0.38523275,  0.34286421, -0.59136213],\n",
       "       [ 0.06927091, -0.54923835,  0.58840207, -0.46788522, -0.35833672],\n",
       "       [ 0.10690407, -0.42673885, -0.58303925,  0.26551486, -0.62931118],\n",
       "       [ 0.32181016,  0.54466815, -0.25369587, -0.64225211, -0.35060727],\n",
       "       [ 0.83735088,  0.11954869,  0.31793453,  0.42490192, -0.0541074 ]])"
      ]
     },
     "execution_count": 7,
     "metadata": {},
     "output_type": "execute_result"
    }
   ],
   "source": [
    "eigvecs"
   ]
  },
  {
   "cell_type": "markdown",
   "metadata": {
    "colab_type": "text",
    "id": "O5TNTDclGsjF"
   },
   "source": [
    "Check that those are in fact eigenvectors and eigenvalues:"
   ]
  },
  {
   "cell_type": "code",
   "execution_count": 6,
   "metadata": {
    "colab": {
     "base_uri": "https://localhost:8080/",
     "height": 202
    },
    "colab_type": "code",
    "id": "-w8X7CXNGpHd",
    "outputId": "e1ed1689-e5f7-4f00-eceb-9c36780a94fb",
    "scrolled": false
   },
   "outputs": [
    {
     "data": {
      "text/plain": [
       "array([[  0.00000000e+00,   1.33226763e-15,   0.00000000e+00,\n",
       "         -2.22044605e-16,   1.33226763e-15],\n",
       "       [  0.00000000e+00,  -2.22044605e-15,  -2.22044605e-15,\n",
       "         -4.44089210e-16,   2.56739074e-16],\n",
       "       [ -4.44089210e-16,  -8.88178420e-16,  -1.77635684e-15,\n",
       "         -6.66133815e-16,   5.82867088e-16],\n",
       "       [ -2.22044605e-16,  -2.22044605e-16,  -8.88178420e-16,\n",
       "         -4.44089210e-16,   3.33066907e-16],\n",
       "       [  0.00000000e+00,  -3.60822483e-16,  -8.32667268e-17,\n",
       "          1.11022302e-16,   3.33066907e-16]])"
      ]
     },
     "execution_count": 6,
     "metadata": {},
     "output_type": "execute_result"
    }
   ],
   "source": [
    "B = A.T.dot(A)\n",
    "B - eigvecs.dot(np.diag(eigvals)).dot(la.inv(eigvecs))"
   ]
  },
  {
   "cell_type": "markdown",
   "metadata": {
    "colab_type": "text",
    "id": "rARIWUaCG3SO"
   },
   "source": [
    "\n",
    "\n",
    "eigvecs are orthonormal! (Why?)\n",
    "\n",
    "Check:\n"
   ]
  },
  {
   "cell_type": "code",
   "execution_count": 7,
   "metadata": {
    "colab": {
     "base_uri": "https://localhost:8080/",
     "height": 202
    },
    "colab_type": "code",
    "id": "vZgGHynfGyVd",
    "outputId": "bfe8cca9-32e4-41b2-9681-654ce8c0acda"
   },
   "outputs": [
    {
     "data": {
      "text/plain": [
       "array([[ 8.88178420e-16,  4.03771460e-16,  6.85129908e-18,\n",
       "        -1.93447007e-16, -2.91627008e-16],\n",
       "       [ 4.03771460e-16,  1.11022302e-15,  1.52478038e-16,\n",
       "        -2.34536220e-16,  4.40813029e-16],\n",
       "       [ 6.85129908e-18,  1.52478038e-16,  8.88178420e-16,\n",
       "         8.31196341e-17,  1.06121530e-16],\n",
       "       [-1.93447007e-16, -2.34536220e-16,  8.31196341e-17,\n",
       "         4.44089210e-16,  1.18684501e-16],\n",
       "       [-2.91627008e-16,  4.40813029e-16,  1.06121530e-16,\n",
       "         1.18684501e-16,  4.44089210e-16]])"
      ]
     },
     "execution_count": 7,
     "metadata": {
      "tags": []
     },
     "output_type": "execute_result"
    }
   ],
   "source": [
    "eigvecs.T.dot(eigvecs) - np.eye(n)"
   ]
  },
  {
   "cell_type": "markdown",
   "metadata": {
    "colab_type": "text",
    "id": "uZsW_RK2HHe7"
   },
   "source": [
    "SVD"
   ]
  },
  {
   "cell_type": "code",
   "execution_count": 15,
   "metadata": {
    "colab": {
     "base_uri": "https://localhost:8080/",
     "height": 109
    },
    "colab_type": "code",
    "id": "ZlVz0Nl5G99H",
    "outputId": "4d2b592f-466f-479c-fc0c-c3159979c43e"
   },
   "outputs": [
    {
     "data": {
      "text/plain": [
       "array([[0.29389076, 0.        , 0.        , 0.        , 0.        ],\n",
       "       [0.        , 0.67667718, 0.        , 0.        , 0.        ],\n",
       "       [0.        , 0.        , 1.42890709, 0.        , 0.        ],\n",
       "       [0.        , 0.        , 0.        , 1.53095774, 0.        ],\n",
       "       [0.        , 0.        , 0.        , 0.        , 2.89309555]])"
      ]
     },
     "execution_count": 15,
     "metadata": {
      "tags": []
     },
     "output_type": "execute_result"
    }
   ],
   "source": [
    "Sigma = np.diag(np.sqrt(eigvals))\n",
    "Sigma"
   ]
  },
  {
   "cell_type": "code",
   "execution_count": 16,
   "metadata": {
    "colab": {
     "base_uri": "https://localhost:8080/",
     "height": 109
    },
    "colab_type": "code",
    "id": "3KrNNAktHLbK",
    "outputId": "f8ee97e1-e577-4d1c-9e68-ccfff758866b",
    "scrolled": false
   },
   "outputs": [
    {
     "data": {
      "text/plain": [
       "array([[-0.42314866,  0.45307384,  0.38523275,  0.34286421, -0.59136213],\n",
       "       [ 0.06927091, -0.54923835,  0.58840207, -0.46788522, -0.35833672],\n",
       "       [ 0.10690407, -0.42673885, -0.58303925,  0.26551486, -0.62931118],\n",
       "       [ 0.32181016,  0.54466815, -0.25369587, -0.64225211, -0.35060727],\n",
       "       [ 0.83735088,  0.11954869,  0.31793453,  0.42490192, -0.0541074 ]])"
      ]
     },
     "execution_count": 16,
     "metadata": {
      "tags": []
     },
     "output_type": "execute_result"
    }
   ],
   "source": [
    "V = eigvecs\n",
    "V"
   ]
  },
  {
   "cell_type": "code",
   "execution_count": 0,
   "metadata": {
    "colab": {},
    "colab_type": "code",
    "collapsed": true,
    "id": "7JNPqxAoHOhI"
   },
   "outputs": [],
   "source": [
    "U = A.dot(V).dot(la.inv(Sigma))\n",
    "U"
   ]
  },
  {
   "cell_type": "code",
   "execution_count": null,
   "metadata": {
    "colab": {},
    "colab_type": "code",
    "collapsed": true,
    "id": "Bq22M31ZMOwX"
   },
   "outputs": [],
   "source": [
    "# coding: utf-8 #\n",
    "# Computing the SVD\n",
    "# In[7]: import numpy as np import numpy.linalg as la \n",
    "# In[25]: np.random.seed(15) n = 5 A = np.random.randn(n, n) \n",
    "# Now compute the eigenvalues and eigenvectors of $A^TA$ as `eigvals` and `eigvecs` using `la.eig` or `la.eigh` (symmetric): \n",
    "# In[26]: eigvals, eigvecs = la.eigh(A.T.dot(A)) \n",
    "# In[27]: eigvals \n",
    "# Eigenvalues are real and positive. Coincidence?\n",
    "# In[28]: eigvecs.shape \n",
    "# Check that those are in fact eigenvectors and eigenvalues:\n",
    "# In[29]: B = A.T.dot(A) B - eigvecs.dot(np.diag(eigvals)).dot(la.inv(eigvecs)) \n",
    "# `eigvecs` are orthonormal! (Why?)\n",
    "# \n",
    "# Check: \n",
    "# In[30]: eigvecs.T.dot(eigvecs) - np.eye(n) \n",
    "# ------ \n",
    "# Now piece together the SVD:\n",
    "# In[19]: Sigma = np.diag(np.sqrt(eigvals))\n",
    "# In[20]: V = eigvecs \n",
    "# In[38]: U = A.dot(V).dot(la.inv(Sigma))\n",
    "# Check orthogonality of `U`: # In[39]: U.dot(U.T) - np.eye(n) "
   ]
  },
  {
   "cell_type": "code",
   "execution_count": 12,
   "metadata": {
    "colab": {
     "base_uri": "https://localhost:8080/",
     "height": 424
    },
    "colab_type": "code",
    "id": "Y1xqcjdWKjRr",
    "outputId": "41a14d01-2839-4e3e-ceef-85174c6bb365"
   },
   "outputs": [
    {
     "name": "stdout",
     "output_type": "stream",
     "text": [
      "[[ 1  2  3  4  5  6  7  8  9 10]\n",
      " [11 12 13 14 15 16 17 18 19 20]\n",
      " [21 22 23 24 25 26 27 28 29 30]]\n",
      "[[-0.19101157  0.89266338  0.40824829]\n",
      " [-0.51371859  0.26348917 -0.81649658]\n",
      " [-0.8364256  -0.36568503  0.40824829]]\n",
      "S [  9.69657342e+01   7.25578339e+00   5.82172067e-15]\n",
      "[[-0.24139304 -0.25728686 -0.27318068 -0.2890745  -0.30496832 -0.32086214\n",
      "  -0.33675595 -0.35264977 -0.36854359 -0.38443741]\n",
      " [-0.53589546 -0.42695236 -0.31800926 -0.20906617 -0.10012307  0.00882003\n",
      "   0.11776313  0.22670623  0.33564933  0.44459242]\n",
      " [-0.76308471  0.57981078  0.1426451   0.09783039  0.10006951  0.08192046\n",
      "  -0.02182071 -0.07111153  0.02343386 -0.16969316]\n",
      " [-0.11442628 -0.24159965 -0.22978376  0.9248098  -0.07469427 -0.07119775\n",
      "  -0.05510443 -0.0470247  -0.06011372 -0.03086524]\n",
      " [-0.03428472 -0.13813055 -0.29451801 -0.06190924  0.92563949 -0.08203999\n",
      "  -0.06968687 -0.07007771 -0.10413301 -0.07085938]\n",
      " [ 0.02720949 -0.03009057 -0.34021657 -0.04844604 -0.07353916  0.90753768\n",
      "  -0.08548326 -0.09498217 -0.14800938 -0.11398001]\n",
      " [ 0.01041974  0.09713855 -0.30600093 -0.03421776 -0.07067076 -0.10112181\n",
      "   0.89362412 -0.12765928 -0.19128579 -0.17022608]\n",
      " [ 0.04343118  0.2121603  -0.32262357 -0.02047619 -0.06910461 -0.11090274\n",
      "  -0.12402648  0.84460826 -0.23494388 -0.21812226]\n",
      " [ 0.20799756  0.29493499 -0.47354078 -0.00802033 -0.07097847 -0.12364611\n",
      "  -0.13311291 -0.17006239  0.7203898  -0.24396136]\n",
      " [ 0.10945405  0.44220378 -0.35586886  0.00700694 -0.06597231 -0.13046462\n",
      "  -0.15932766 -0.21085665 -0.32226005  0.68608538]]\n",
      "Sigma [[ 96.96573419   0.        ]\n",
      " [  0.           7.25578339]\n",
      " [  0.           0.        ]]\n"
     ]
    }
   ],
   "source": [
    "from numpy import array\n",
    "from numpy import diag\n",
    "from numpy import zeros\n",
    "from scipy.linalg import svd\n",
    "# define a matrix\n",
    "A = array([\n",
    "\t[1,2,3,4,5,6,7,8,9,10],\n",
    "\t[11,12,13,14,15,16,17,18,19,20],\n",
    "\t[21,22,23,24,25,26,27,28,29,30]])\n",
    "print(A)\n",
    "# Singular-value decomposition\n",
    "U, s, VT = svd(A)\n",
    "print(U)\n",
    "print(\"S\",s)\n",
    "print(VT)\n",
    "# create m x n Sigma matrix\n",
    "Sigma = zeros((A.shape[0], A.shape[1]))\n",
    "# # populate Sigma with n x n diagonal matrix\n",
    "Sigma[:A.shape[0], :A.shape[0]] = diag(s)\n",
    "# # select\n",
    "# n_elements = 2\n",
    "# Sigma = Sigma[:, :n_elements]\n",
    "# VT = VT[:n_elements, :]\n",
    "# # reconstruct\n",
    "# print(U)\n",
    "# print(Sigma)\n",
    "# print(VT)\n",
    "# B = U.dot(Sigma.dot(VT))\n",
    "# print(B)\n",
    "# # transform\n",
    "# T = U.dot(Sigma)\n",
    "# print(T)\n",
    "# T = A.dot(VT.T)\n",
    "# print(T)"
   ]
  },
  {
   "cell_type": "markdown",
   "metadata": {
    "colab_type": "text",
    "id": "MoTDOJ08KVfG"
   },
   "source": [
    "SVD for Pseudoinverse\n",
    "\n",
    "The pseudoinverse is the generalization of the matrix inverse for square matrices to rectangular matrices where the number of rows and columns are not equal.\n",
    "\n",
    "It is also called the the Moore-Penrose Inverse after two independent discoverers of the method or the Generalized Inverse.\n",
    "\n",
    "    Matrix inversion is not defined for matrices that are not square. […] When A has more columns than rows, then solving a linear equation using the pseudoinverse provides one of the many possible solutions."
   ]
  },
  {
   "cell_type": "markdown",
   "metadata": {
    "colab_type": "text",
    "id": "9YL6kfG4HVer"
   },
   "source": [
    "Check orthogonality of U:\n"
   ]
  },
  {
   "cell_type": "code",
   "execution_count": 11,
   "metadata": {
    "colab": {
     "base_uri": "https://localhost:8080/",
     "height": 202
    },
    "colab_type": "code",
    "id": "l1Wb47HaHQ8Q",
    "outputId": "685b4814-f219-404d-acfa-fb3157ec9dad"
   },
   "outputs": [
    {
     "data": {
      "text/plain": [
       "array([[-1.11022302e-15, -7.67324533e-16, -6.67804308e-16,\n",
       "         1.47963782e-15,  1.44717415e-16],\n",
       "       [-7.67324533e-16,  6.66133815e-16, -5.43672425e-16,\n",
       "         6.51481016e-16, -2.64998805e-16],\n",
       "       [-6.67804308e-16, -5.43672425e-16,  2.66453526e-15,\n",
       "        -1.42306617e-15,  1.55464267e-15],\n",
       "       [ 1.47963782e-15,  6.51481016e-16, -1.42306617e-15,\n",
       "         3.10862447e-15, -1.13201575e-15],\n",
       "       [ 1.44717415e-16, -2.64998805e-16,  1.55464267e-15,\n",
       "        -1.13201575e-15,  4.44089210e-16]])"
      ]
     },
     "execution_count": 11,
     "metadata": {
      "tags": []
     },
     "output_type": "execute_result"
    }
   ],
   "source": [
    "U.dot(U.T) - np.eye(n)"
   ]
  },
  {
   "cell_type": "markdown",
   "metadata": {
    "colab_type": "text",
    "id": "dQlNKZ7qHmp_"
   },
   "source": [
    "np.eye gives Return a 2-D array with ones on the diagonal and zeros elsewhere."
   ]
  },
  {
   "cell_type": "code",
   "execution_count": 12,
   "metadata": {
    "colab": {
     "base_uri": "https://localhost:8080/",
     "height": 54
    },
    "colab_type": "code",
    "id": "YNz7JN4zHaBF",
    "outputId": "07e16727-744e-4ed5-a5de-a75d9be72630"
   },
   "outputs": [
    {
     "data": {
      "text/plain": [
       "array([[1, 0],\n",
       "       [0, 1]])"
      ]
     },
     "execution_count": 12,
     "metadata": {
      "tags": []
     },
     "output_type": "execute_result"
    }
   ],
   "source": [
    "np.eye(2, dtype=int)"
   ]
  },
  {
   "cell_type": "code",
   "execution_count": 13,
   "metadata": {
    "colab": {
     "base_uri": "https://localhost:8080/",
     "height": 72
    },
    "colab_type": "code",
    "id": "2xgZe5BiHxjJ",
    "outputId": "75bac9e1-9659-4cea-c988-e19ce8457fad"
   },
   "outputs": [
    {
     "data": {
      "text/plain": [
       "array([[0., 1., 0.],\n",
       "       [0., 0., 1.],\n",
       "       [0., 0., 0.]])"
      ]
     },
     "execution_count": 13,
     "metadata": {
      "tags": []
     },
     "output_type": "execute_result"
    }
   ],
   "source": [
    "np.eye(3, k=1)"
   ]
  },
  {
   "cell_type": "markdown",
   "metadata": {
    "colab_type": "text",
    "id": "Wx-f5wCrIbWy"
   },
   "source": [
    "Using SVD function"
   ]
  },
  {
   "cell_type": "code",
   "execution_count": 14,
   "metadata": {
    "colab": {
     "base_uri": "https://localhost:8080/",
     "height": 183
    },
    "colab_type": "code",
    "id": "oq7R171WH3IG",
    "outputId": "b777b940-8b2e-4d63-a68a-921b886e05d2"
   },
   "outputs": [
    {
     "name": "stdout",
     "output_type": "stream",
     "text": [
      "[[1 2]\n",
      " [3 4]\n",
      " [5 6]]\n",
      "[[-0.2298477   0.88346102  0.40824829]\n",
      " [-0.52474482  0.24078249 -0.81649658]\n",
      " [-0.81964194 -0.40189603  0.40824829]]\n",
      "[9.52551809 0.51430058]\n",
      "[[-0.61962948 -0.78489445]\n",
      " [-0.78489445  0.61962948]]\n"
     ]
    }
   ],
   "source": [
    "# Singular-value decomposition\n",
    "from numpy import array\n",
    "from scipy.linalg import svd\n",
    "# define a matrix\n",
    "A = array([[1, 2], [3, 4], [5, 6]])\n",
    "print(A)\n",
    "# SVD\n",
    "U, s, VT = svd(A)\n",
    "print(U)\n",
    "print(s)\n",
    "print(VT)"
   ]
  },
  {
   "cell_type": "code",
   "execution_count": null,
   "metadata": {
    "colab": {
     "base_uri": "https://localhost:8080/",
     "height": 183
    },
    "colab_type": "code",
    "collapsed": true,
    "id": "kYpAX8a9IXM2",
    "outputId": "cdfc2d07-a42a-408a-f452-210a337f32f9"
   },
   "outputs": [],
   "source": []
  }
 ],
 "metadata": {
  "colab": {
   "name": "SVD.ipynb",
   "provenance": []
  },
  "kernelspec": {
   "display_name": "Python 3",
   "language": "python",
   "name": "python3"
  },
  "language_info": {
   "codemirror_mode": {
    "name": "ipython",
    "version": 3
   },
   "file_extension": ".py",
   "mimetype": "text/x-python",
   "name": "python",
   "nbconvert_exporter": "python",
   "pygments_lexer": "ipython3",
   "version": "3.6.3"
  }
 },
 "nbformat": 4,
 "nbformat_minor": 1
}
